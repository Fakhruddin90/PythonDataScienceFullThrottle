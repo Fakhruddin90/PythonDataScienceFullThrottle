{
 "cells": [
  {
   "cell_type": "markdown",
   "id": "0dc3d073-1143-42da-a007-0a5115274a2b",
   "metadata": {
    "tags": []
   },
   "source": [
    "# Using OpenAI APIs\n",
    "* Sign up for the APIs: https://platform.openai.com/signup "
   ]
  },
  {
   "cell_type": "code",
   "execution_count": null,
   "id": "d8f59efb-5fe1-44a6-ba3a-398ee1168782",
   "metadata": {
    "tags": []
   },
   "outputs": [],
   "source": [
    "%%html\n",
    "<!-- CSS settings for this notbook -->\n",
    "<style>\n",
    "    h1 {color:#BB0000}\n",
    "    h2 {color:purple}\n",
    "    h3 {color:#0099ff}\n",
    "    hr {    \n",
    "        border: 0;\n",
    "        height: 3px;\n",
    "        background: #333;\n",
    "        background-image: linear-gradient(to right, #ccc, black, #ccc);\n",
    "    }\n",
    "</style>"
   ]
  },
  {
   "cell_type": "code",
   "execution_count": null,
   "id": "8bbd7343-5179-4ac1-b5d9-7557fde17f51",
   "metadata": {},
   "outputs": [],
   "source": [
    "# enable high-res images in notebook \n",
    "%config InlineBackend.figure_format = 'retina'"
   ]
  },
  {
   "cell_type": "code",
   "execution_count": null,
   "id": "5cf5958e-4b91-482e-b1e4-8394f5626b58",
   "metadata": {},
   "outputs": [],
   "source": [
    "%matplotlib inline"
   ]
  },
  {
   "cell_type": "code",
   "execution_count": null,
   "id": "ce075cc6-7a46-43f9-a2f9-9565dc14fdb3",
   "metadata": {
    "tags": []
   },
   "outputs": [],
   "source": [
    "import openai"
   ]
  },
  {
   "cell_type": "code",
   "execution_count": null,
   "id": "f741c0d8-df3c-4da9-84fb-97909654cce8",
   "metadata": {
    "tags": []
   },
   "outputs": [],
   "source": [
    "import os"
   ]
  },
  {
   "cell_type": "code",
   "execution_count": null,
   "id": "eb7fe46d-cb13-402a-b70a-9a070289c215",
   "metadata": {
    "tags": []
   },
   "outputs": [],
   "source": [
    "import keys"
   ]
  },
  {
   "cell_type": "code",
   "execution_count": null,
   "id": "acbaa633-db29-4750-8784-ee8570463d64",
   "metadata": {
    "tags": []
   },
   "outputs": [],
   "source": [
    "openai.api_key = keys.OPENAI_API_KEY"
   ]
  },
  {
   "cell_type": "markdown",
   "id": "fb88c3c7-651c-418d-bc92-02637a6a49ae",
   "metadata": {
    "tags": []
   },
   "source": [
    "# Transcribe Audio with Whisper"
   ]
  },
  {
   "cell_type": "code",
   "execution_count": null,
   "id": "f5d72998-25f6-40b8-9220-7f6f099c37dc",
   "metadata": {
    "tags": []
   },
   "outputs": [],
   "source": [
    "with open('../ch13/SpokenResponse.wav', 'rb') as audio:\n",
    "    transcript = openai.Audio.transcribe(\"whisper-1\", audio)"
   ]
  },
  {
   "cell_type": "code",
   "execution_count": null,
   "id": "0edd9866-09c7-4c75-bff0-670891183d3a",
   "metadata": {
    "tags": []
   },
   "outputs": [],
   "source": [
    "transcript.to_dict()['text']"
   ]
  },
  {
   "cell_type": "markdown",
   "id": "f27d0d8c-8be4-49b9-bc5b-e3f4781456ef",
   "metadata": {
    "tags": []
   },
   "source": [
    "# Translate into English with Whisper\n",
    "* **BUG:** Supposed to auto translate to English, but not working"
   ]
  },
  {
   "cell_type": "code",
   "execution_count": null,
   "id": "0ad81532-d1b4-4bc8-8569-6f23558a751c",
   "metadata": {
    "tags": []
   },
   "outputs": [],
   "source": [
    "with open('../ch13/SpokenResponse.wav', 'rb') as audio:\n",
    "    transcript2 = openai.Audio.translate(\"whisper-1\", audio)"
   ]
  },
  {
   "cell_type": "code",
   "execution_count": null,
   "id": "ead113e1-d601-4420-aa88-47fbb81271ad",
   "metadata": {
    "tags": []
   },
   "outputs": [],
   "source": [
    "transcript2.to_dict()['text']"
   ]
  },
  {
   "cell_type": "markdown",
   "id": "b3ea9be9-099a-4fe5-b737-a26c9c64b3b9",
   "metadata": {
    "tags": []
   },
   "source": [
    "# Generate Text with ChatGPT"
   ]
  },
  {
   "cell_type": "code",
   "execution_count": null,
   "id": "411f54e2-6b54-4acb-8b2d-f0aa3d6baf1e",
   "metadata": {
    "tags": []
   },
   "outputs": [],
   "source": [
    "# prompt = input('What do you want to do?')\n",
    "prompt = \"\"\"Write python code that uses the word_cloud library to generate a 1000 pixel by \n",
    "            1000 pixel rainbow color word cloud from the top 100 words in the file \n",
    "            'RomeoAndJuliet.txt' which is in the current folder. Remove both modern English \n",
    "            and old English stop words. Use the mask image named mask_heart.png, which is \n",
    "            also in the current folder.\"\"\""
   ]
  },
  {
   "cell_type": "code",
   "execution_count": null,
   "id": "b15df2cd-7104-4f3c-9ffd-43166d5fd844",
   "metadata": {
    "tags": []
   },
   "outputs": [],
   "source": [
    "result = openai.ChatCompletion.create(\n",
    "  model=\"gpt-3.5-turbo\",\n",
    "  messages=[\n",
    "        {\"role\": \"system\", \"content\": \"You are a helpful assistant.\"},\n",
    "        {\"role\": \"user\", \"content\": prompt}\n",
    "    ]\n",
    ")"
   ]
  },
  {
   "cell_type": "code",
   "execution_count": null,
   "id": "b3ad4e7a-3aff-43a3-a8d0-c376d893e9fd",
   "metadata": {
    "tags": []
   },
   "outputs": [],
   "source": [
    "result"
   ]
  },
  {
   "cell_type": "code",
   "execution_count": null,
   "id": "c1fdafa6-a327-4296-b407-7582a122e804",
   "metadata": {
    "tags": []
   },
   "outputs": [],
   "source": [
    "print(result['choices'][0]['message']['content'])"
   ]
  },
  {
   "cell_type": "code",
   "execution_count": null,
   "id": "86da492e-7ad6-4f03-aaca-13e6495faf4a",
   "metadata": {},
   "outputs": [],
   "source": []
  },
  {
   "cell_type": "markdown",
   "id": "fe02020b-28a6-4081-851c-ea924d8e622b",
   "metadata": {},
   "source": [
    "# Generate Image with Dall-E 2"
   ]
  },
  {
   "cell_type": "code",
   "execution_count": null,
   "id": "ed763f16-44a9-4f37-9a36-6e04f4e3f36c",
   "metadata": {
    "tags": []
   },
   "outputs": [],
   "source": [
    "prompt = \"\"\"Havanese dog as a japanese anime character  \n",
    "            in neon colors against a black background\"\"\""
   ]
  },
  {
   "cell_type": "code",
   "execution_count": null,
   "id": "62056b0a-5011-4d1f-99cb-49142ccc94e7",
   "metadata": {
    "tags": []
   },
   "outputs": [],
   "source": [
    "response = openai.Image.create(\n",
    "  prompt=prompt,\n",
    "  n=1,\n",
    "  size=\"1024x1024\"\n",
    ")\n",
    "image_url = response['data'][0]['url']"
   ]
  },
  {
   "cell_type": "code",
   "execution_count": null,
   "id": "8ec2be28-263a-4857-bf58-3b5c07e66c62",
   "metadata": {
    "tags": []
   },
   "outputs": [],
   "source": [
    "image_url"
   ]
  },
  {
   "cell_type": "code",
   "execution_count": null,
   "id": "350b7092-bca0-4a3b-9f4d-c381d704da17",
   "metadata": {
    "tags": []
   },
   "outputs": [],
   "source": [
    "prompt = \"\"\"Brad Pitt as a japanese anime character  \n",
    "            in neon colors against a black background\"\"\""
   ]
  },
  {
   "cell_type": "code",
   "execution_count": null,
   "id": "14fb95e8-5feb-4eb2-b07a-31525cf00dd6",
   "metadata": {
    "tags": []
   },
   "outputs": [],
   "source": [
    "response = openai.Image.create(\n",
    "  prompt=prompt,\n",
    "  n=1,\n",
    "  size=\"1024x1024\"\n",
    ")\n",
    "image_url = response['data'][0]['url']"
   ]
  },
  {
   "cell_type": "code",
   "execution_count": null,
   "id": "82bb903f-2eb2-42b8-a30c-0aa0a03546fe",
   "metadata": {
    "tags": []
   },
   "outputs": [],
   "source": [
    "image_url"
   ]
  }
 ],
 "metadata": {
  "kernelspec": {
   "display_name": "Python 3 (ipykernel)",
   "language": "python",
   "name": "python3"
  },
  "language_info": {
   "codemirror_mode": {
    "name": "ipython",
    "version": 3
   },
   "file_extension": ".py",
   "mimetype": "text/x-python",
   "name": "python",
   "nbconvert_exporter": "python",
   "pygments_lexer": "ipython3",
   "version": "3.11.5"
  }
 },
 "nbformat": 4,
 "nbformat_minor": 5
}
