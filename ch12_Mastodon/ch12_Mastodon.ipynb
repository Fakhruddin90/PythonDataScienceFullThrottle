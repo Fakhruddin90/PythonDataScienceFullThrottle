{
 "cells": [
  {
   "cell_type": "code",
   "execution_count": null,
   "metadata": {
    "tags": []
   },
   "outputs": [],
   "source": [
    "%%html\n",
    "<!-- CSS settings for this notbook -->\n",
    "<style>\n",
    "    h1 {color:#BB0000}\n",
    "    h2 {color:purple}\n",
    "    h3 {color:#0099ff}\n",
    "    hr {    \n",
    "        border: 0;\n",
    "        height: 3px;\n",
    "        background: #333;\n",
    "        background-image: linear-gradient(to right, #ccc, black, #ccc);\n",
    "    }\n",
    "</style>"
   ]
  },
  {
   "cell_type": "markdown",
   "metadata": {
    "tags": []
   },
   "source": [
    "# Data Mining Mastodon"
   ]
  },
  {
   "cell_type": "markdown",
   "metadata": {},
   "source": [
    "------"
   ]
  },
  {
   "cell_type": "markdown",
   "metadata": {
    "tags": []
   },
   "source": [
    "# Objectives\n",
    "* What is **Mastodon**?\n",
    "* Why we're presenting **Mastodon** rather than **Twitter**\n",
    "* **Data-mine Mastodon** with **Mastodon.py** library\n",
    "* Use various **Mastodon** API methods\n",
    "* **Get information** about a specific Mastodon account\n",
    "* **Look up trending hashtags** \n",
    "* **Search for toots** containing a specific hashtag\n",
    "* **Process streams of toots** as they’re happening\n",
    "* **Clean and preprocess toots** to prepare them for analysis\n",
    "* **Translate foreign language toots** into English \n",
    "* Tap into the **live streams of toots**\n",
    "<!--* Perform **sentiment analysis** on toots from the live stream-->\n",
    "* Create an **interactive map of Mastodon servers locations** from which Toots are received"
   ]
  },
  {
   "cell_type": "markdown",
   "metadata": {},
   "source": [
    "------"
   ]
  },
  {
   "cell_type": "markdown",
   "metadata": {
    "tags": []
   },
   "source": [
    "# 12.1 Introduction \n",
    "* **Data mining** &mdash; searching large collections of data for **insights**\n",
    "* **Sentiment** in toots can help **make predictions**  \n",
    "    * **Stock prices**\n",
    "    * **Election results**\n",
    "    * Likely **revenues** for a **new movie** or, more generally, **product**\n",
    "    * **Success** of a company’s **marketing campaign**\n",
    "* Spot **comments on your company's products** \n",
    "* Spot **faults in competitors’ products** \n",
    "* Spot **trending topics**\n",
    "* **Connect to Mastodon** with easy-to-use **Web services**"
   ]
  },
  {
   "cell_type": "markdown",
   "metadata": {
    "tags": []
   },
   "source": [
    "## What Is Mastodon?\n",
    "* Free social network\n",
    "* Similar to Twitter, but decentralized and more privacy focused\n",
    "* No ads/profit model\n",
    "* Thousands of servers run by individuals and companies worldwide\n",
    "* **Federated** (known as the **Fediverse**)\n",
    "    * Independent servers distributed across the Internet\n",
    "    * Communication among the server nodes  \n",
    "    > https://en.wikipedia.org/wiki/Distributed_social_network\n",
    "    * Architecture like **Web3** and the **Metaverse**\n",
    "    * Can communicate with accounts throughout the **Fediverse** \n",
    "* **Toots**\n",
    "    * Messages up to **500 characters**\n",
    "    * Some servers allow more\n",
    "* Anyone can generally choose to follow anyone else but depends on\n",
    "    * individual users' account settings \n",
    "    * specific server rules"
   ]
  },
  {
   "cell_type": "markdown",
   "metadata": {
    "tags": []
   },
   "source": [
    "## Monthly Active Users\n",
    "* End of October 2022: Appoximately 500,000 active monthly Mastodon users\n",
    "> https://www.theguardian.com/news/datablog/2023/jan/08/elon-musk-drove-more-than-a-million-people-to-mastodon-but-many-arent-sticking-around\n",
    "* April 2023: Appoximately 2.5 million active monthly Mastodon users\n",
    "> https://thesmallbusinessblog.net/mastodon-users/\n",
    "* Much smaller than Twitter, but growing quickly\n",
    "* https://arstechnica.com/tech-policy/2023/05/mastodon-fixes-confusing-sign-up-process-to-attract-users-fleeing-twitter/"
   ]
  },
  {
   "cell_type": "markdown",
   "metadata": {
    "tags": []
   },
   "source": [
    "## Accessing Mastodon Data Programmatically \n",
    "* Anyone with an account can use the APIs\n",
    "* Access and manipulate accounts, servers, toots (statuses), timelines, trends, ...\n",
    "* Can **tap into the live stream** of toots for a given server or the **Fediverse** "
   ]
  },
  {
   "cell_type": "markdown",
   "metadata": {},
   "source": [
    "------"
   ]
  },
  {
   "cell_type": "markdown",
   "metadata": {
    "tags": []
   },
   "source": [
    "# 12.2 Overview of the Mastodon APIs \n",
    "* **Web services** are methods that you call in the **cloud**\n",
    "* Each method has a **web service endpoint** represented by a **URL**\n",
    "* **Caution**: Internet connections can be lost, services can change and some services are not available in all countries, so **apps can be brittle**\n",
    "* Some **API categories** \n",
    "    * **Accounts API** — Access information about and manipulate **Mastodon user accounts**\n",
    "    * **Statuses API** — Access info about and post **status updates**, known as **toots**\n",
    "    * **Timelines API** — Toots and other \"events\" (follows, likes, ...) over time — since the inception of each Mastodon server\n",
    "    > Enables access to toots and other \"events\" from the **public fediverse**, **toots with specific hashtags**, **logged-in user's timeline** (including accounts the user follows) and **lists** for filtering a user's home timeline. Can use timelines to search for **past toots** containing specific hashtags and access **live toot streams**\n",
    "* **Mastodon API categories** under the **API METHODS** heading in the left column at\n",
    ">https://docs.joinmastodon.org/"
   ]
  },
  {
   "cell_type": "markdown",
   "metadata": {},
   "source": [
    "------"
   ]
  },
  {
   "cell_type": "markdown",
   "metadata": {
    "tags": []
   },
   "source": [
    "# 12.3 Creating a Mastodon Account \n",
    "## Developer Accounts\n",
    "* **Mastodon does not have separate developer accounts**\n",
    "    * Anyone with a Mastodon account can be a developer\n",
    "    * Every server has its own rules — some servers allow anyone to join, some require approval\n",
    "    \n",
    "## Servers\n",
    "* Sign-up for main server: https://mastodon.social/auth/sign_up\n",
    "* Or, explore servers worldwide at\n",
    "    * https://joinmastodon.org/servers\n",
    "    * 9200+ (May 2023)\n",
    "    * Many more servers than listed here — 54,000+ (April 2023)\n",
    "\n",
    "## Mastodon Server Covenant\n",
    "* Servers listed at https://joinmastodon.org/servers adhere to the **Mastodon Server Covenant**\n",
    "    * https://joinmastodon.org/covenant\n",
    "    * **Active moderation** by the server administrators\n",
    "    * **Daily backups**\n",
    "    * **Multiple administrators** with emergency access to server infrastructure for fixing problems\n",
    "    * Administrator agrees to provide **at least 3 months notice** to users before **shutting down a server permanently** (if a server shuts down, the data is no longer available)\n",
    "\n",
    "## Mastodon.social — Original and Largest Overall Mastodon Server\n",
    "* Due to exodus from Twitter, **Deitel joined `mastodon.social`** \n",
    "    * Deitel requirement: Readers/viewers must be able to experiment with web services using free tiers\n",
    "    * New Twitter API free and initial paid tier have extremely limited capabilities\n",
    "* https://joinmastodon.org/servers enables you to filter servers based on\n",
    "    * region\n",
    "    * language\n",
    "    * topical focus of that server\n",
    "* Can join multiple servers\n",
    "* Can also **set up your own servers to create new Mastodon communities** with your own rules and restrictions"
   ]
  },
  {
   "cell_type": "markdown",
   "metadata": {},
   "source": [
    "------"
   ]
  },
  {
   "cell_type": "markdown",
   "metadata": {
    "tags": []
   },
   "source": [
    "# 12.4 What’s in a Mastodon API Response? \n",
    "* Mastodon API methods return **JSON (JavaScript Object Notation)** objects\n",
    "    * Like Twitter and most popular web services today\n",
    "* Text-based **data-interchange format** \n",
    "* Represents objects as **collections of name–value pairs** (like dictionaries)\n",
    "* Commonly used in web services\n",
    "* Human and computer readable"
   ]
  },
  {
   "cell_type": "markdown",
   "metadata": {},
   "source": [
    "## JSON\n",
    "* **JSON object format**:\n",
    "> ```\n",
    "> {propertyName1: value1, propertyName2: value2}\n",
    "> ```\n",
    "* **JSON array format (like Python list)**:\n",
    "> ```\n",
    "> [value1, value2, value3]\n",
    "> ```\n",
    "* **Mastodon.py handles the JSON for you** behind the scenes"
   ]
  },
  {
   "cell_type": "markdown",
   "metadata": {
    "tags": []
   },
   "source": [
    "## Class `mastodon.AttribAccessDict` \n",
    "* Mastodon returns JSON as **`mastodon.AttribAccessDict` objects**\n",
    "* Python `dict` (dictionary) subclass\n",
    "* Access via\n",
    "    * traditional Python dictionary keys  \n",
    "    * attributes named to match the dictionary keys\n",
    "* **API ENTITIES** section of the Mastodon docs (https://docs.joinmastodon.org/) describes the 52 JSON objects you'll find in various Mastodon API responses"
   ]
  },
  {
   "cell_type": "markdown",
   "metadata": {
    "tags": []
   },
   "source": [
    "## Sample JSON for Trending Hashtags\n",
    "* A portion of the JSON response to a request for recent trending hashtags\n",
    "\n",
    "```json\n",
    "[{'name': 'caturday',\n",
    "  'url': 'https://mastodon.social/tags/caturday',\n",
    "  'history': [{'day': datetime.datetime(2023, 4, 22, 0, 0, tzinfo=datetime.timezone.utc),\n",
    "    'accounts': '719',\n",
    "    'uses': '828'},\n",
    "   {'day': datetime.datetime(2023, 4, 21, 0, 0, tzinfo=datetime.timezone.utc),\n",
    "    'accounts': '58',\n",
    "    'uses': '62'},\n",
    "   {'day': datetime.datetime(2023, 4, 20, 0, 0, tzinfo=datetime.timezone.utc),\n",
    "    'accounts': '25',\n",
    "    'uses': '32'},\n",
    "   {'day': datetime.datetime(2023, 4, 19, 0, 0, tzinfo=datetime.timezone.utc),\n",
    "    'accounts': '28',\n",
    "    'uses': '34'},\n",
    "   {'day': datetime.datetime(2023, 4, 18, 0, 0, tzinfo=datetime.timezone.utc),\n",
    "    'accounts': '19',\n",
    "    'uses': '22'},\n",
    "   {'day': datetime.datetime(2023, 4, 17, 0, 0, tzinfo=datetime.timezone.utc),\n",
    "    'accounts': '25',\n",
    "    'uses': '26'},\n",
    "   {'day': datetime.datetime(2023, 4, 16, 0, 0, tzinfo=datetime.timezone.utc),\n",
    "    'accounts': '225',\n",
    "    'uses': '254'}],\n",
    "  'following': False},\n",
    " {'name': 'ScreenshotSaturday',\n",
    "  'url': 'https://mastodon.social/tags/ScreenshotSaturday',\n",
    "  'history': [{'day': datetime.datetime(2023, 4, 22, 0, 0, tzinfo=datetime.timezone.utc),\n",
    "    'accounts': '56',\n",
    "    'uses': '59'},\n",
    "   {'day': datetime.datetime(2023, 4, 21, 0, 0, tzinfo=datetime.timezone.utc),\n",
    "    'accounts': '0',\n",
    "    'uses': '0'},\n",
    "   {'day': datetime.datetime(2023, 4, 20, 0, 0, tzinfo=datetime.timezone.utc),\n",
    "    'accounts': '0',\n",
    "    'uses': '0'},\n",
    "   {'day': datetime.datetime(2023, 4, 19, 0, 0, tzinfo=datetime.timezone.utc),\n",
    "    'accounts': '0',\n",
    "    'uses': '0'},\n",
    "   {'day': datetime.datetime(2023, 4, 18, 0, 0, tzinfo=datetime.timezone.utc),\n",
    "    'accounts': '3',\n",
    "    'uses': '3'},\n",
    "   {'day': datetime.datetime(2023, 4, 17, 0, 0, tzinfo=datetime.timezone.utc),\n",
    "    'accounts': '3',\n",
    "    'uses': '3'},\n",
    "   {'day': datetime.datetime(2023, 4, 16, 0, 0, tzinfo=datetime.timezone.utc),\n",
    "    'accounts': '24',\n",
    "    'uses': '26'}],\n",
    "  'following': False},\n",
    "  ...\n",
    " ]\n",
    "```"
   ]
  },
  {
   "cell_type": "markdown",
   "metadata": {},
   "source": [
    "------"
   ]
  },
  {
   "cell_type": "markdown",
   "metadata": {
    "tags": []
   },
   "source": [
    "# 12.5 Installing the Libraries Used in This Notebook\n",
    "\n",
    "## Installing Mastodon.py \n",
    "* https://github.com/halcy/Mastodon.py \n",
    "* Easy access to Mastodon APIs\n",
    "* Mastodon.py docs: https://mastodonpy.readthedocs.io/\n",
    "> `pip3 install Mastodon.py`\n",
    "\n"
   ]
  },
  {
   "cell_type": "markdown",
   "metadata": {
    "tags": []
   },
   "source": [
    "## DeepL AI Translator \n",
    "* Mastodon's API supports translation, but not yet supported by Mastodon.py library\n",
    "* https://github.com/DeepLcom/deepl-python\n",
    "> `pip install --upgrade deepl`\n",
    "* DeepL requires an API key\n",
    "* Free one allows 500,000 characters/month\n",
    "* To get a key:\n",
    "> * Go to https://www.deepl.com/pro#developer\n",
    "> * Click **API**\n",
    "> * Click **Sign up for free**\n",
    "> * Under **DeepL API Free** click **Sign up for free**\n",
    "> * Specify an email/password and click **Continue**\n",
    "> * Fill in the form and provide a credit card — required to prevent “fraudulent multiple registrations”, then click **Continue**\n",
    "> * Read the terms and, if you agree, click **Sign up for free**\n",
    "> * Click the **Account Management** link on the thank you page\n",
    "> * Click the **Account** tab and scroll to **Authentication Key for DeepL API**\n",
    "> * Copy your key then open **`keys_mastodon.py`** and replace `'your key here'` with your DeepL key\n",
    ">> `deepL_key = 'your key here'`"
   ]
  },
  {
   "cell_type": "markdown",
   "metadata": {
    "tags": []
   },
   "source": [
    "## Installing geopy \n",
    "* https://github.com/geopy/geopy\n",
    "* Convert locations, such as **Boston, MA**, into latitudes and longitudes, such as **42.3602534** and **-71.0582912**, for plotting on maps\n",
    "* We'll use the free **ArcGIS** service\n",
    ">`conda install -c conda-forge geopy`\n",
    "> * Windows users: **Run the Anaconda Prompt as an Administrator**"
   ]
  },
  {
   "cell_type": "markdown",
   "metadata": {
    "tags": []
   },
   "source": [
    "## Folium Library and Leaflet.js JavaScript Mapping Library\n",
    "* https://github.com/python-visualization/folium\n",
    "* Creates interactive maps\n",
    "> `pip install folium`\n",
    "\n",
    "**Maps from OpenStreetMap.org**\n",
    "* Leaflet.js uses open-source maps from `OpenStreetMap.org`. \n",
    "* Copyrighted by the OpenStreetMap.org contributors\n",
    "* www.openstreetmap.org/copyright \n",
    "* www.opendatacommons.org/licenses/odbl"
   ]
  },
  {
   "cell_type": "markdown",
   "metadata": {},
   "source": [
    "------"
   ]
  },
  {
   "cell_type": "markdown",
   "metadata": {},
   "source": [
    "# 12.6 Preparing to Interact with Mastodon Programmatically"
   ]
  },
  {
   "cell_type": "markdown",
   "metadata": {
    "tags": []
   },
   "source": [
    "## Import Username and Password\n",
    "* Before executing this cell, ensure that your copy of `keys_mastodon.py` contains your Mastodon credentials\n",
    "* **Many Mastodon APIs do not require authentication**\n",
    "    * Some APIs optionally require authentication — determined by each server's administrator\n",
    "    * Some require authentication, such as those that enable administration of a mastodon server\n",
    "* See each method's documentation for **authentication requirements**\n",
    "    * Mastodon.py: https://mastodonpy.readthedocs.io/\n",
    "    * Main Mastodon docs: https://docs.joinmastodon.org/\n",
    "* **We will log in, so we are authenticated for calls that require authentication**, such as searching for accounts"
   ]
  },
  {
   "cell_type": "code",
   "execution_count": 58,
   "metadata": {
    "tags": []
   },
   "outputs": [],
   "source": [
    "import keys_mastodon"
   ]
  },
  {
   "cell_type": "markdown",
   "metadata": {
    "tags": []
   },
   "source": [
    "## Register a Mastodon App\n",
    "* Must be done **once per server** that you'll directly interact with via the API \n",
    "    * As you'll see, through one server, you can get access to the Fediverse data\n",
    "* For apps you are distributing (e.g., a mobile-phone app for interacting with Mastodon)\n",
    "    * must register **once for each device/server pair**\n",
    "    * for example, a mobil app might allow the user to manage accounts on multiple Mastodon servers\n",
    "* Arguments\n",
    "    * app name\n",
    "    * `api_base_url` — your specific Mastodon server\n",
    "    * `to_file` — file in which `create_app` saves app credentials to the specified file"
   ]
  },
  {
   "cell_type": "code",
   "execution_count": 59,
   "metadata": {
    "tags": []
   },
   "outputs": [],
   "source": [
    "from mastodon import Mastodon"
   ]
  },
  {
   "cell_type": "code",
   "execution_count": 60,
   "metadata": {
    "tags": []
   },
   "outputs": [],
   "source": [
    "# create deiteltest app and save its credentials\n",
    "credentials = Mastodon.create_app(\n",
    "    'DeitelPythonDataScienceMastodonApp',\n",
    "    api_base_url='https://mastodon.social',\n",
    "    to_file='deiteltest_client_credentials.secret'\n",
    ")"
   ]
  },
  {
   "cell_type": "code",
   "execution_count": null,
   "metadata": {
    "jupyter": {
     "source_hidden": true
    },
    "tags": []
   },
   "outputs": [],
   "source": [
    "# create deiteltest app and save its credentials\n",
    "credentials = Mastodon.create_app(\n",
    "    'DeitelPythonDataScienceMastodonApp',\n",
    "    api_base_url='https://mastodon.online',\n",
    "    to_file='deiteltest_client_credentials.secret'\n",
    ")"
   ]
  },
  {
   "cell_type": "markdown",
   "metadata": {},
   "source": [
    "<hr style=\"height:2px; border:none; color:#AAA; background-color:#AAA;\">"
   ]
  },
  {
   "cell_type": "markdown",
   "metadata": {
    "tags": []
   },
   "source": [
    "# 12.7 Creating a `Mastodon` object to Access Mastodon APIs\n",
    "* **`Mastodon` object** is your gateway to using the Mastodon APIs\n",
    "* Uses the info stored via the `to_file` parameter in preceding `create_app` call "
   ]
  },
  {
   "cell_type": "code",
   "execution_count": 61,
   "metadata": {
    "tags": []
   },
   "outputs": [],
   "source": [
    "mastodon = Mastodon(client_id='deiteltest_client_credentials.secret')"
   ]
  },
  {
   "cell_type": "markdown",
   "metadata": {},
   "source": [
    "## Log into Mastodon\n",
    "* Log into the account\n",
    "* May not be required depending on the API methods you'll use"
   ]
  },
  {
   "cell_type": "code",
   "execution_count": 62,
   "metadata": {
    "tags": []
   },
   "outputs": [],
   "source": [
    "access_token = mastodon.log_in(keys_mastodon.usr, keys_mastodon.pwd, \n",
    "    to_file='deiteltest_client_credentials.secret')"
   ]
  },
  {
   "cell_type": "markdown",
   "metadata": {
    "tags": []
   },
   "source": [
    "## **Example:** Rate Limits\n",
    "* Typically, **300 calls per user** or **7500 calls per IP address** in **5 minutes**\n",
    "    * Can vary by server\n",
    "* Options **throw**, **wait** (default) and **pace**\n",
    "    * **throw**: `MastodonRateLimitError` when a request hits the rate limit — for apps that manage their own rate limiting\n",
    "    * **wait** (default): When rate limit hit, waits until rate limit resets (at end of five-minute interval), then tries again\n",
    "    * **pace**: Delays each request after the first, attempting to avoid hitting the rate limit; acts like **wait** mode if limit is hit\n"
   ]
  },
  {
   "cell_type": "markdown",
   "metadata": {},
   "source": [
    "### Number of Calls Per 5 Minutes Allowed on This Server"
   ]
  },
  {
   "cell_type": "code",
   "execution_count": 63,
   "metadata": {
    "tags": []
   },
   "outputs": [
    {
     "data": {
      "text/plain": [
       "300"
      ]
     },
     "execution_count": 63,
     "metadata": {},
     "output_type": "execute_result"
    }
   ],
   "source": [
    "mastodon.ratelimit_limit "
   ]
  },
  {
   "cell_type": "markdown",
   "metadata": {},
   "source": [
    "### Number of Calls Remaining in Current Rate Interval Period"
   ]
  },
  {
   "cell_type": "code",
   "execution_count": 64,
   "metadata": {
    "tags": []
   },
   "outputs": [
    {
     "data": {
      "text/plain": [
       "299"
      ]
     },
     "execution_count": 64,
     "metadata": {},
     "output_type": "execute_result"
    }
   ],
   "source": [
    "mastodon.ratelimit_remaining"
   ]
  },
  {
   "cell_type": "markdown",
   "metadata": {},
   "source": [
    "<hr style=\"height:2px; border:none; color:#AAA; background-color:#AAA;\">"
   ]
  },
  {
   "cell_type": "markdown",
   "metadata": {
    "tags": []
   },
   "source": [
    "# 12.8 **Example:** Getting a Mastodon Instance's (Server's) Info\n",
    "* **Instance** JSON description: https://docs.joinmastodon.org/entities/Instance/"
   ]
  },
  {
   "cell_type": "markdown",
   "metadata": {},
   "source": [
    "### Get the Instance Info\n",
    "* Depending on server, might need to be logged in"
   ]
  },
  {
   "cell_type": "code",
   "execution_count": 65,
   "metadata": {
    "tags": []
   },
   "outputs": [],
   "source": [
    "instance = mastodon.instance() "
   ]
  },
  {
   "cell_type": "markdown",
   "metadata": {},
   "source": [
    "### Print Some Instance Info\n",
    "* `title` ― server name\n",
    "* `uri` ― server address (access this in a web browser with `https:` followed by `uri`)\n",
    "* `stats.user_count` ― number of users on that server\n",
    "* `stats.status_count` ― cumulative number of toots posted to that server \n",
    "* `stats.domain_count` ― number of other known Mastodon servers in the fediverse"
   ]
  },
  {
   "cell_type": "code",
   "execution_count": 66,
   "metadata": {
    "tags": []
   },
   "outputs": [
    {
     "name": "stdout",
     "output_type": "stream",
     "text": [
      "       server title: Mastodon\n",
      "                uri: mastodon.social\n",
      "  short_description: The original server operated by the Mastodon gGmbH non-profit\n",
      "   stats.user_count: 1,690,199\n",
      " stats.status_count: 73,899,515\n",
      " stats.domain_count: 65,122\n"
     ]
    }
   ],
   "source": [
    "print(f'{\"server title\":>19}: {instance.title}')\n",
    "print(f'{\"uri\":>19}: {instance.uri}')\n",
    "print(f'{\"short_description\":>19}: {instance.short_description}')\n",
    "print(f'{\"stats.user_count\":>19}: {instance.stats.user_count:,}')\n",
    "print(f'{\"stats.status_count\":>19}: {instance.stats.status_count:,}')\n",
    "print(f'{\"stats.domain_count\":>19}: {instance.stats.domain_count:,}')"
   ]
  },
  {
   "cell_type": "markdown",
   "metadata": {},
   "source": [
    "<hr style=\"height:2px; border:none; color:#AAA; background-color:#AAA;\">"
   ]
  },
  {
   "cell_type": "markdown",
   "metadata": {
    "tags": []
   },
   "source": [
    "# 12.9 Searching for Mastodon Accounts By User Name\n",
    "* A mobile app might allows user to locate other accounts to follow\n",
    "* Can programmatically search for accounts containing a specified string"
   ]
  },
  {
   "cell_type": "markdown",
   "metadata": {},
   "source": [
    "## **Example:** Find Account Names Containing `'Mastodon'`\n",
    "* Returns list of **Account**s\n",
    "* **Account** JSON description: https://docs.joinmastodon.org/entities/Account/"
   ]
  },
  {
   "cell_type": "code",
   "execution_count": 67,
   "metadata": {
    "tags": []
   },
   "outputs": [],
   "source": [
    "accounts = mastodon.account_search(q='Mastodon@mastodon.social') "
   ]
  },
  {
   "cell_type": "code",
   "execution_count": 68,
   "metadata": {
    "tags": []
   },
   "outputs": [
    {
     "data": {
      "text/plain": [
       "40"
      ]
     },
     "execution_count": 68,
     "metadata": {},
     "output_type": "execute_result"
    }
   ],
   "source": [
    "len(accounts)"
   ]
  },
  {
   "cell_type": "markdown",
   "metadata": {},
   "source": [
    "## **Example:** Basic Account Information for Top 3 Accounts with `mastodon` in the name\n",
    "* You can discover info about an account\n",
    "    * Might want to follow and account based on popularity (number of followers)\n",
    "    * Might want to follow some of the same accounts that a specific account follows\n",
    "* Each has many properties, including:\n",
    "    * `username` — user’s Mastodon handle \n",
    "    * `id` — account’s unique ID number\n",
    "    * `url` — URL used to access the account in a web browser\n",
    "    * `note` — account description (may contain HTML tags)\n",
    "    * `statuses_count` — number of toots posted by the account\n",
    "    * `followers_count` — account's number of followers\n",
    "    * `following_count` — number of other accounts this account follows\n",
    "* Sort by `followers_count` in descending order, then display top 3 accounts by followers"
   ]
  },
  {
   "cell_type": "code",
   "execution_count": 69,
   "metadata": {
    "tags": []
   },
   "outputs": [],
   "source": [
    "sorted_accounts = sorted(accounts, key=lambda acct: acct.followers_count, reverse=True)"
   ]
  },
  {
   "cell_type": "code",
   "execution_count": 70,
   "metadata": {
    "tags": []
   },
   "outputs": [
    {
     "name": "stdout",
     "output_type": "stream",
     "text": [
      "username:  Mastodon\n",
      "id:  13179\n",
      "url:  https://mastodon.social/@Mastodon\n",
      "statuses_count: 253\n",
      "followers_count: 810,218\n",
      "following_count: 3\n",
      "\n",
      "username:  Curator\n",
      "id:  84340\n",
      "url:  https://mastodon.art/@Curator\n",
      "statuses_count: 33,741\n",
      "followers_count: 59,394\n",
      "following_count: 30\n",
      "\n",
      "username:  amministratore\n",
      "id:  109594194732886072\n",
      "url:  https://mastodon.uno/@amministratore\n",
      "statuses_count: 1,218\n",
      "followers_count: 31,618\n",
      "following_count: 42\n",
      "\n"
     ]
    }
   ],
   "source": [
    "for account in sorted_accounts[:3]:\n",
    "    print('username: ', account.username)\n",
    "    print('id: ', account.id)\n",
    "    print('url: ', account.url)\n",
    "    #print('note: ', account.note)\n",
    "    print(f'statuses_count: {account.statuses_count:,}')\n",
    "    print(f'followers_count: {account.followers_count:,}')\n",
    "    print(f'following_count: {account.following_count:,}')\n",
    "    print()"
   ]
  },
  {
   "cell_type": "markdown",
   "metadata": {},
   "source": [
    "### Getting Your Own Account’s Information\n",
    "* Get via `Mastodon` object’s `me` method\n",
    "> `my_account = mastodon.me()`\n",
    "* Returns an **Account object** for the account you used to authenticate with Mastodon"
   ]
  },
  {
   "cell_type": "markdown",
   "metadata": {},
   "source": [
    "<hr style=\"height:2px; border:none; color:#AAA; background-color:#AAA;\">"
   ]
  },
  {
   "cell_type": "markdown",
   "metadata": {},
   "source": [
    "# 12.10 Spotting Trending Hashtags: Mastodon Trends API\n",
    "* If a topic **“goes viral,”** thousands or even millions of people could be talking about it\n",
    "* Mastodon allows you to look up **trending hashtags**, **trending toots** and  **trending links** across the fediverse\n",
    "    * NOTE: **trending toots** and **trending links** are supposed to return lists of items, but each returns only one item at the moment \n",
    "    * **I filed an issue in the Mastodon.py GitHub repository** — the developers acknowledged the bug and are looking into it "
   ]
  },
  {
   "cell_type": "markdown",
   "metadata": {},
   "source": [
    "## **Example:** Getting a List of Trending Hashtags \n",
    "* `trending_tags` returns a list of trending hashtags in the fediverse\n",
    "* Returned as JSON **Tag** objects\n",
    "> https://docs.joinmastodon.org/entities/Tag/\n",
    "* Each contains\n",
    "    * `name`\n",
    "    * `url`\n",
    "    * `history` list of last 7 days' stats for the hashtag\n",
    "    * `following` ― whether the logged in account is following the trending tag"
   ]
  },
  {
   "cell_type": "code",
   "execution_count": 71,
   "metadata": {
    "tags": []
   },
   "outputs": [],
   "source": [
    "trends = mastodon.trending_tags(limit=20)  # 20 max, 10 default"
   ]
  },
  {
   "cell_type": "code",
   "execution_count": 72,
   "metadata": {
    "tags": []
   },
   "outputs": [
    {
     "data": {
      "text/plain": [
       "{'name': 'mashupfictionalcharactersandsongs',\n",
       " 'url': 'https://mastodon.social/tags/mashupfictionalcharactersandsongs',\n",
       " 'history': [{'day': datetime.datetime(2023, 11, 14, 0, 0, tzinfo=datetime.timezone.utc),\n",
       "   'accounts': '77',\n",
       "   'uses': '270'},\n",
       "  {'day': datetime.datetime(2023, 11, 13, 0, 0, tzinfo=datetime.timezone.utc),\n",
       "   'accounts': '0',\n",
       "   'uses': '0'},\n",
       "  {'day': datetime.datetime(2023, 11, 12, 0, 0, tzinfo=datetime.timezone.utc),\n",
       "   'accounts': '0',\n",
       "   'uses': '0'},\n",
       "  {'day': datetime.datetime(2023, 11, 11, 0, 0, tzinfo=datetime.timezone.utc),\n",
       "   'accounts': '0',\n",
       "   'uses': '0'},\n",
       "  {'day': datetime.datetime(2023, 11, 10, 0, 0, tzinfo=datetime.timezone.utc),\n",
       "   'accounts': '0',\n",
       "   'uses': '0'},\n",
       "  {'day': datetime.datetime(2023, 11, 9, 0, 0, tzinfo=datetime.timezone.utc),\n",
       "   'accounts': '0',\n",
       "   'uses': '0'},\n",
       "  {'day': datetime.datetime(2023, 11, 8, 0, 0, tzinfo=datetime.timezone.utc),\n",
       "   'accounts': '0',\n",
       "   'uses': '0'}],\n",
       " 'following': False}"
      ]
     },
     "execution_count": 72,
     "metadata": {},
     "output_type": "execute_result"
    }
   ],
   "source": [
    "trends[0] # sample dictionary for one hashtag"
   ]
  },
  {
   "cell_type": "markdown",
   "metadata": {},
   "source": [
    "## **Example:** Display Trending Hashtags in Descending Order By Toot Volume over the Last Seven Days"
   ]
  },
  {
   "cell_type": "code",
   "execution_count": 73,
   "metadata": {
    "tags": []
   },
   "outputs": [],
   "source": [
    "def tag_count(tag):\n",
    "    \"\"\"Counts number of times a hashtag was used in last 7 days\"\"\"\n",
    "    total_uses = 0\n",
    "    \n",
    "    for day in tag.history:\n",
    "        total_uses += int(day['uses'])  \n",
    "    \n",
    "    # add attribute to tag object specifying 7-day hashtag count\n",
    "    tag.seven_day_count = total_uses \n",
    "    return total_uses"
   ]
  },
  {
   "cell_type": "markdown",
   "metadata": {},
   "source": [
    "* Sort the trends in **descending** order by toot volume:"
   ]
  },
  {
   "cell_type": "code",
   "execution_count": 74,
   "metadata": {
    "tags": []
   },
   "outputs": [],
   "source": [
    "trends.sort(key=tag_count, reverse=True)"
   ]
  },
  {
   "cell_type": "markdown",
   "metadata": {},
   "source": [
    "* Display names, counts and URLs of the **top 20 trending topics**"
   ]
  },
  {
   "cell_type": "code",
   "execution_count": 75,
   "metadata": {
    "tags": []
   },
   "outputs": [
    {
     "name": "stdout",
     "output_type": "stream",
     "text": [
      "mashupfictionalcharactersandsongs: 270\n",
      "   https://mastodon.social/tags/mashupfictionalcharactersandsongs\n",
      "davidcameron: 179\n",
      "   https://mastodon.social/tags/davidcameron\n",
      "happyhourfornondrinkers: 157\n",
      "   https://mastodon.social/tags/happyhourfornondrinkers\n",
      "Fotomontag: 149\n",
      "   https://mastodon.social/tags/Fotomontag\n",
      "scotus: 143\n",
      "   https://mastodon.social/tags/scotus\n",
      "cameron: 135\n",
      "   https://mastodon.social/tags/cameron\n",
      "Photomonday: 111\n",
      "   https://mastodon.social/tags/Photomonday\n",
      "supremecourt: 88\n",
      "   https://mastodon.social/tags/supremecourt\n",
      "reshuffle: 79\n",
      "   https://mastodon.social/tags/reshuffle\n",
      "mondog: 62\n",
      "   https://mastodon.social/tags/mondog\n",
      "thegameawards: 57\n",
      "   https://mastodon.social/tags/thegameawards\n",
      "transawarenessweek: 50\n",
      "   https://mastodon.social/tags/transawarenessweek\n",
      "thicktrunktuesday: 46\n",
      "   https://mastodon.social/tags/thicktrunktuesday\n",
      "tunetuesday: 40\n",
      "   https://mastodon.social/tags/tunetuesday\n",
      "waitingforgodot: 29\n",
      "   https://mastodon.social/tags/waitingforgodot\n",
      "MardiPatisserie: 26\n",
      "   https://mastodon.social/tags/MardiPatisserie\n",
      "dienstag: 23\n",
      "   https://mastodon.social/tags/dienstag\n",
      "childrensday: 19\n",
      "   https://mastodon.social/tags/childrensday\n",
      "wordle878: 18\n",
      "   https://mastodon.social/tags/wordle878\n",
      "worlddiabetesday: 15\n",
      "   https://mastodon.social/tags/worlddiabetesday\n"
     ]
    }
   ],
   "source": [
    "for tag in trends:\n",
    "    print(f'{tag.name}: {tag.seven_day_count}')\n",
    "    print(f'   {tag.url}')"
   ]
  },
  {
   "cell_type": "markdown",
   "metadata": {},
   "source": [
    "<hr style=\"height:2px; border:none; color:#AAA; background-color:#AAA;\">"
   ]
  },
  {
   "cell_type": "markdown",
   "metadata": {
    "tags": []
   },
   "source": [
    "# 12.11 Searching for Toots Containing Specific Hashtags; Getting More than One Page of Results "
   ]
  },
  {
   "cell_type": "markdown",
   "metadata": {
    "tags": []
   },
   "source": [
    "* Mastodon API methods often **return collections of objects** \n",
    "    * Docs describe these as \"Arrays\" \n",
    "    * Mastodon.py returns **lists of Python dictionaries**\n",
    "* For example, `timeline_xxx` functions can return:\n",
    "    * `timeline_hashtag` — toots **containing a specific hashtag**\n",
    "    * `timeline_public` — toots from the **fediverse's public timeline** \n",
    "    * `timeline_local` — toots posted on the **local server**\n",
    "    * `timeline_home` — toots in a user’s **home timeline** (includes accounts followed by the user)\n",
    "* Each Mastodon API call returns a maximum number of items per call\n",
    "    * known as a **page of results**\n",
    "    * default is often 10 or 20\n",
    "    * max is typically 40 for toots and 80 for accounts\n",
    "* **Mastodon.py can handle paging details** with utility functions (as you'll see momentarily)\n",
    "> https://mastodonpy.readthedocs.io/en/stable/12_utilities.html"
   ]
  },
  {
   "cell_type": "markdown",
   "metadata": {},
   "source": [
    "## Functions `print_toot` and `print_toots` from `tootutilities.py`\n",
    "```python\n",
    "# DeepL Translator object used to autodetect source language and return English\n",
    "translator = deepl.Translator(keys_mastodon.deepL_key)\n",
    "\n",
    "def print_toot(toot):\n",
    "    \"\"\"Prints one toot's username and content (translated, if not English).\"\"\"\n",
    "    \n",
    "    # display the username of the sender \n",
    "    print(f'{toot.account.username}:')\n",
    "\n",
    "    # display toot text\n",
    "    if toot.language and toot.language.startswith('en'):\n",
    "        # render HTML version of toot in an HTML div indented 0.5 inches\n",
    "        text = profanity.censor(toot.content)\n",
    "        display(HTML(f'<div style=\"padding-left: 0.5in;\">{text}</div>'))\n",
    "\n",
    "    # if the language is not English, display original & translated text \n",
    "    else:            \n",
    "        # render HTML version of toot in an HTML div indented 0.5 inches\n",
    "        print(f'ORIGINAL: ')\n",
    "        display(HTML(f'<div style=\"padding-left: 0.5in;\">{toot.content}</div>'))\n",
    "\n",
    "        # translate content\n",
    "        result = translator.translate_text(toot.content, target_lang='en-us')\n",
    "\n",
    "        # render HTML version of toot in an HTML div indented 0.5 inches\n",
    "        print(f'TRANSLATED: ')\n",
    "        text = profanity.censor(result.text)\n",
    "        display(HTML(f'<div style=\"padding-left: 0.5in;\">{text}</div>'))\n",
    "        \n",
    "def print_toots(toots):\n",
    "    \"\"\"For each toot in toots, call print_toot to display \n",
    "       the username of the sender and toot text.\"\"\"\n",
    "    for toot in toots:\n",
    "        print_toot(toot)\n",
    "```"
   ]
  },
  {
   "cell_type": "markdown",
   "metadata": {},
   "source": [
    "## **Example:** Paging Through Results\n",
    "* We purposely grab only 2 toots per page of results to show the mechanics of paging"
   ]
  },
  {
   "cell_type": "code",
   "execution_count": 81,
   "metadata": {
    "tags": []
   },
   "outputs": [],
   "source": [
    "total_toots = 10 # how many toots to get\n",
    "pages = 5 # of pages of toots to process\n",
    "toots_per_page = total_toots // pages # 2 per page for demo purposes; can do 40/page\n",
    "hashtag = 'football'"
   ]
  },
  {
   "cell_type": "markdown",
   "metadata": {},
   "source": [
    "### Get First Page of Toots Containing a Given Hashtag \n",
    "* `timeline_hashtag` searches public timeline of past toots containing hashtag you specify"
   ]
  },
  {
   "cell_type": "code",
   "execution_count": 82,
   "metadata": {
    "tags": []
   },
   "outputs": [],
   "source": [
    "result = mastodon.timeline_hashtag(hashtag, limit=toots_per_page)\n",
    "saved_toots = result # saved_toots will eventually contain all the toots"
   ]
  },
  {
   "cell_type": "markdown",
   "metadata": {},
   "source": [
    "### Get Remaining Pages of Toots Containing a Hashtag \n",
    "* Mastodon.py utility function **`fetch_next`** gets the next page of results\n",
    "* **Argument is the previous page of results**, which includes the info need by Mastodon.py to get the next page of result"
   ]
  },
  {
   "cell_type": "code",
   "execution_count": 83,
   "metadata": {
    "tags": []
   },
   "outputs": [],
   "source": [
    "for toots in range(pages - 1): # for each remaining page\n",
    "    # save previous page of results\n",
    "    previous_result = result \n",
    "    \n",
    "    # use Mastodon.py utility function fetch_next to get next page of results\n",
    "    result = mastodon.fetch_next(previous_result) \n",
    "\n",
    "    # if there are results add them to saved_toots; otherwise, temrinate loop\n",
    "    if result:\n",
    "        saved_toots += result\n",
    "    else:\n",
    "        break # no more results"
   ]
  },
  {
   "cell_type": "code",
   "execution_count": 84,
   "metadata": {
    "tags": []
   },
   "outputs": [
    {
     "data": {
      "text/plain": [
       "10"
      ]
     },
     "execution_count": 84,
     "metadata": {},
     "output_type": "execute_result"
    }
   ],
   "source": [
    "len(saved_toots) # total toots acquired"
   ]
  },
  {
   "cell_type": "code",
   "execution_count": 85,
   "metadata": {
    "tags": []
   },
   "outputs": [
    {
     "name": "stdout",
     "output_type": "stream",
     "text": [
      "fonecokid:\n"
     ]
    },
    {
     "data": {
      "text/html": [
       "<div style=\"padding-left: 0.5in;\"><p><a href=\"https://c.im/tags/Soccer\" class=\"mention hashtag\" rel=\"nofollow noopener noreferrer\" target=\"_blank\">#<span>Soccer</span></a> <a href=\"https://c.im/tags/Football\" class=\"mention hashtag\" rel=\"nofollow noopener noreferrer\" target=\"_blank\">#<span>Football</span></a> (the only one, the other is for ****😂 ) <a href=\"https://c.im/tags/Benfica\" class=\"mention hashtag\" rel=\"nofollow noopener noreferrer\" target=\"_blank\">#<span>Benfica</span></a> <a href=\"https://c.im/tags/Glorioso\" class=\"mention hashtag\" rel=\"nofollow noopener noreferrer\" target=\"_blank\">#<span>Glorioso</span></a> <a href=\"https://c.im/tags/SLB\" class=\"mention hashtag\" rel=\"nofollow noopener noreferrer\" target=\"_blank\">#<span>SLB</span></a> <br> We are the best❤️</p></div>"
      ],
      "text/plain": [
       "<IPython.core.display.HTML object>"
      ]
     },
     "metadata": {},
     "output_type": "display_data"
    },
    {
     "name": "stdout",
     "output_type": "stream",
     "text": [
      "europesays:\n"
     ]
    },
    {
     "data": {
      "text/html": [
       "<div style=\"padding-left: 0.5in;\"><p><a href=\"https://www.europesays.com/902001/\" rel=\"nofollow noopener noreferrer\" target=\"_blank\"><span class=\"invisible\">https://www.</span><span class=\"\">europesays.com/902001/</span><span class=\"invisible\"></span></a> Jamie Carragher: “You can make an argument that Unai Emery is the third-best manager in this Premier League”. <a href=\"https://pubeurope.com/tags/England\" class=\"mention hashtag\" rel=\"nofollow noopener noreferrer\" target=\"_blank\">#<span>England</span></a> <a href=\"https://pubeurope.com/tags/EnglishPremierLeague\" class=\"mention hashtag\" rel=\"nofollow noopener noreferrer\" target=\"_blank\">#<span>EnglishPremierLeague</span></a> <a href=\"https://pubeurope.com/tags/Football\" class=\"mention hashtag\" rel=\"nofollow noopener noreferrer\" target=\"_blank\">#<span>Football</span></a> <a href=\"https://pubeurope.com/tags/Soccer\" class=\"mention hashtag\" rel=\"nofollow noopener noreferrer\" target=\"_blank\">#<span>Soccer</span></a> <a href=\"https://pubeurope.com/tags/UnitedKingdom\" class=\"mention hashtag\" rel=\"nofollow noopener noreferrer\" target=\"_blank\">#<span>UnitedKingdom</span></a></p></div>"
      ],
      "text/plain": [
       "<IPython.core.display.HTML object>"
      ]
     },
     "metadata": {},
     "output_type": "display_data"
    },
    {
     "name": "stdout",
     "output_type": "stream",
     "text": [
      "bbcnewsfeed:\n"
     ]
    },
    {
     "data": {
      "text/html": [
       "<div style=\"padding-left: 0.5in;\"><p>Monday Night Club: Why doesn't Cole Palmer have a buy-back clause?</p><p>Mark Chapman, Chris Sutton, Adam Crafton and Andros Townsend discuss Cole Palmer's performance for <a href=\"https://mastodonapp.uk/tags/Chelsea\" class=\"mention hashtag\" rel=\"nofollow noopener noreferrer\" target=\"_blank\">#<span>Chelsea</span></a> against Manchester City and why his former club didn't include a buy-back clause in his sale.</p><p><a href=\"https://www.bbc.co.uk/sport/av/football/67415133\" rel=\"nofollow noopener noreferrer\" target=\"_blank\"><span class=\"invisible\">https://www.</span><span class=\"ellipsis\">bbc.co.uk/sport/av/football/67</span><span class=\"invisible\">415133</span></a></p><p>(c) <a href=\"https://mastodonapp.uk/tags/BBC\" class=\"mention hashtag\" rel=\"nofollow noopener noreferrer\" target=\"_blank\">#<span>BBC</span></a> <a href=\"https://mastodonapp.uk/tags/News\" class=\"mention hashtag\" rel=\"nofollow noopener noreferrer\" target=\"_blank\">#<span>News</span></a> <a href=\"https://mastodonapp.uk/tags/Sport\" class=\"mention hashtag\" rel=\"nofollow noopener noreferrer\" target=\"_blank\">#<span>Sport</span></a> <a href=\"https://mastodonapp.uk/tags/Football\" class=\"mention hashtag\" rel=\"nofollow noopener noreferrer\" target=\"_blank\">#<span>Football</span></a></p></div>"
      ],
      "text/plain": [
       "<IPython.core.display.HTML object>"
      ]
     },
     "metadata": {},
     "output_type": "display_data"
    },
    {
     "name": "stdout",
     "output_type": "stream",
     "text": [
      "rawchili:\n"
     ]
    },
    {
     "data": {
      "text/html": [
       "<div style=\"padding-left: 0.5in;\"><p>Official Tuesday Free Chat Thread <a href=\"https://www.rawchili.com/3163621/\" rel=\"nofollow noopener noreferrer\" target=\"_blank\"><span class=\"invisible\">https://www.</span><span class=\"\">rawchili.com/3163621/</span><span class=\"invisible\"></span></a></p><p><a href=\"https://channels.im/tags/AmericanFootballConference\" class=\"mention hashtag\" rel=\"nofollow noopener noreferrer\" target=\"_blank\">#<span>AmericanFootballConference</span></a> <a href=\"https://channels.im/tags/AmericanFootballConferenceEastDivision\" class=\"mention hashtag\" rel=\"nofollow noopener noreferrer\" target=\"_blank\">#<span>AmericanFootballConferenceEastDivision</span></a> <a href=\"https://channels.im/tags/Football\" class=\"mention hashtag\" rel=\"nofollow noopener noreferrer\" target=\"_blank\">#<span>Football</span></a> <a href=\"https://channels.im/tags/Foxborough\" class=\"mention hashtag\" rel=\"nofollow noopener noreferrer\" target=\"_blank\">#<span>Foxborough</span></a> <a href=\"https://channels.im/tags/Massachusetts\" class=\"mention hashtag\" rel=\"nofollow noopener noreferrer\" target=\"_blank\">#<span>Massachusetts</span></a> <a href=\"https://channels.im/tags/NationalFootballLeague\" class=\"mention hashtag\" rel=\"nofollow noopener noreferrer\" target=\"_blank\">#<span>NationalFootballLeague</span></a> <a href=\"https://channels.im/tags/NewEngland\" class=\"mention hashtag\" rel=\"nofollow noopener noreferrer\" target=\"_blank\">#<span>NewEngland</span></a> <a href=\"https://channels.im/tags/NewEnglandPatriots\" class=\"mention hashtag\" rel=\"nofollow noopener noreferrer\" target=\"_blank\">#<span>NewEnglandPatriots</span></a> <a href=\"https://channels.im/tags/NFL\" class=\"mention hashtag\" rel=\"nofollow noopener noreferrer\" target=\"_blank\">#<span>NFL</span></a> <a href=\"https://channels.im/tags/Patriots\" class=\"mention hashtag\" rel=\"nofollow noopener noreferrer\" target=\"_blank\">#<span>Patriots</span></a></p></div>"
      ],
      "text/plain": [
       "<IPython.core.display.HTML object>"
      ]
     },
     "metadata": {},
     "output_type": "display_data"
    },
    {
     "name": "stdout",
     "output_type": "stream",
     "text": [
      "europesays:\n"
     ]
    },
    {
     "data": {
      "text/html": [
       "<div style=\"padding-left: 0.5in;\"><p><a href=\"https://www.europesays.com/901991/\" rel=\"nofollow noopener noreferrer\" target=\"_blank\"><span class=\"invisible\">https://www.</span><span class=\"\">europesays.com/901991/</span><span class=\"invisible\"></span></a> Discurso na íntegra do sócio do FC Porto que acabaria agredido e arrastado para fora da AG <a href=\"https://pubeurope.com/tags/Football\" class=\"mention hashtag\" rel=\"nofollow noopener noreferrer\" target=\"_blank\">#<span>Football</span></a> <a href=\"https://pubeurope.com/tags/portugal\" class=\"mention hashtag\" rel=\"nofollow noopener noreferrer\" target=\"_blank\">#<span>portugal</span></a> <a href=\"https://pubeurope.com/tags/PrimeiraLigaPortuguesa\" class=\"mention hashtag\" rel=\"nofollow noopener noreferrer\" target=\"_blank\">#<span>PrimeiraLigaPortuguesa</span></a> <a href=\"https://pubeurope.com/tags/Soccer\" class=\"mention hashtag\" rel=\"nofollow noopener noreferrer\" target=\"_blank\">#<span>Soccer</span></a></p></div>"
      ],
      "text/plain": [
       "<IPython.core.display.HTML object>"
      ]
     },
     "metadata": {},
     "output_type": "display_data"
    },
    {
     "name": "stdout",
     "output_type": "stream",
     "text": [
      "europesays:\n"
     ]
    },
    {
     "data": {
      "text/html": [
       "<div style=\"padding-left: 0.5in;\"><p><a href=\"https://www.europesays.com/901989/\" rel=\"nofollow noopener noreferrer\" target=\"_blank\"><span class=\"invisible\">https://www.</span><span class=\"\">europesays.com/901989/</span><span class=\"invisible\"></span></a> All I want is to Diniz play them together on friday <a href=\"https://pubeurope.com/tags/Football\" class=\"mention hashtag\" rel=\"nofollow noopener noreferrer\" target=\"_blank\">#<span>Football</span></a> <a href=\"https://pubeurope.com/tags/HalaMadrid\" class=\"mention hashtag\" rel=\"nofollow noopener noreferrer\" target=\"_blank\">#<span>HalaMadrid</span></a> <a href=\"https://pubeurope.com/tags/LaLiga\" class=\"mention hashtag\" rel=\"nofollow noopener noreferrer\" target=\"_blank\">#<span>LaLiga</span></a> <a href=\"https://pubeurope.com/tags/RealMadrid\" class=\"mention hashtag\" rel=\"nofollow noopener noreferrer\" target=\"_blank\">#<span>RealMadrid</span></a> <a href=\"https://pubeurope.com/tags/RealMadridCF\" class=\"mention hashtag\" rel=\"nofollow noopener noreferrer\" target=\"_blank\">#<span>RealMadridCF</span></a> <a href=\"https://pubeurope.com/tags/Soccer\" class=\"mention hashtag\" rel=\"nofollow noopener noreferrer\" target=\"_blank\">#<span>Soccer</span></a> <a href=\"https://pubeurope.com/tags/spain\" class=\"mention hashtag\" rel=\"nofollow noopener noreferrer\" target=\"_blank\">#<span>spain</span></a> <a href=\"https://pubeurope.com/tags/SpanishSoccer\" class=\"mention hashtag\" rel=\"nofollow noopener noreferrer\" target=\"_blank\">#<span>SpanishSoccer</span></a></p></div>"
      ],
      "text/plain": [
       "<IPython.core.display.HTML object>"
      ]
     },
     "metadata": {},
     "output_type": "display_data"
    },
    {
     "name": "stdout",
     "output_type": "stream",
     "text": [
      "europesays:\n"
     ]
    },
    {
     "data": {
      "text/html": [
       "<div style=\"padding-left: 0.5in;\"><p><a href=\"https://www.europesays.com/901987/\" rel=\"nofollow noopener noreferrer\" target=\"_blank\"><span class=\"invisible\">https://www.</span><span class=\"\">europesays.com/901987/</span><span class=\"invisible\"></span></a> [Fabrizio Romano] Barça director Deco: “No doubts, we want to keep both Joao Felix and Cancelo also next season and for the future. They’re key players for us and they’re happy here”. “It’s still early but we will think about the negotiation, we are happy with both of them”, told RAC1. <a href=\"https://pubeurope.com/tags/F\" class=\"mention hashtag\" rel=\"nofollow noopener noreferrer\" target=\"_blank\">#<span>F</span></a>.C.Barcelona <a href=\"https://pubeurope.com/tags/FCBarcelona\" class=\"mention hashtag\" rel=\"nofollow noopener noreferrer\" target=\"_blank\">#<span>FCBarcelona</span></a> <a href=\"https://pubeurope.com/tags/Football\" class=\"mention hashtag\" rel=\"nofollow noopener noreferrer\" target=\"_blank\">#<span>Football</span></a> <a href=\"https://pubeurope.com/tags/FutbolClubBarcelona\" class=\"mention hashtag\" rel=\"nofollow noopener noreferrer\" target=\"_blank\">#<span>FutbolClubBarcelona</span></a> <a href=\"https://pubeurope.com/tags/LaLiga\" class=\"mention hashtag\" rel=\"nofollow noopener noreferrer\" target=\"_blank\">#<span>LaLiga</span></a> <a href=\"https://pubeurope.com/tags/Soccer\" class=\"mention hashtag\" rel=\"nofollow noopener noreferrer\" target=\"_blank\">#<span>Soccer</span></a> <a href=\"https://pubeurope.com/tags/spain\" class=\"mention hashtag\" rel=\"nofollow noopener noreferrer\" target=\"_blank\">#<span>spain</span></a> <a href=\"https://pubeurope.com/tags/SpanishSoccer\" class=\"mention hashtag\" rel=\"nofollow noopener noreferrer\" target=\"_blank\">#<span>SpanishSoccer</span></a></p></div>"
      ],
      "text/plain": [
       "<IPython.core.display.HTML object>"
      ]
     },
     "metadata": {},
     "output_type": "display_data"
    },
    {
     "name": "stdout",
     "output_type": "stream",
     "text": [
      "rawchili:\n"
     ]
    },
    {
     "data": {
      "text/html": [
       "<div style=\"padding-left: 0.5in;\"><p>SheldonRankins may have played his best game ever; and he has played some great football in his time <a href=\"https://channels.im/tags/BaldysBreakdowns\" class=\"mention hashtag\" rel=\"nofollow noopener noreferrer\" target=\"_blank\">#<span>BaldysBreakdowns</span></a> <a href=\"https://www.rawchili.com/3163613/\" rel=\"nofollow noopener noreferrer\" target=\"_blank\"><span class=\"invisible\">https://www.</span><span class=\"\">rawchili.com/3163613/</span><span class=\"invisible\"></span></a></p><p><a href=\"https://channels.im/tags/AmericanFootballConference\" class=\"mention hashtag\" rel=\"nofollow noopener noreferrer\" target=\"_blank\">#<span>AmericanFootballConference</span></a> <a href=\"https://channels.im/tags/AmericanFootballConferenceSouthDivision\" class=\"mention hashtag\" rel=\"nofollow noopener noreferrer\" target=\"_blank\">#<span>AmericanFootballConferenceSouthDivision</span></a> <a href=\"https://channels.im/tags/Football\" class=\"mention hashtag\" rel=\"nofollow noopener noreferrer\" target=\"_blank\">#<span>Football</span></a> <a href=\"https://channels.im/tags/Houston\" class=\"mention hashtag\" rel=\"nofollow noopener noreferrer\" target=\"_blank\">#<span>Houston</span></a> <a href=\"https://channels.im/tags/HoustonTexans\" class=\"mention hashtag\" rel=\"nofollow noopener noreferrer\" target=\"_blank\">#<span>HoustonTexans</span></a> <a href=\"https://channels.im/tags/NationalFootballLeague\" class=\"mention hashtag\" rel=\"nofollow noopener noreferrer\" target=\"_blank\">#<span>NationalFootballLeague</span></a> <a href=\"https://channels.im/tags/NFL\" class=\"mention hashtag\" rel=\"nofollow noopener noreferrer\" target=\"_blank\">#<span>NFL</span></a> <a href=\"https://channels.im/tags/Texans\" class=\"mention hashtag\" rel=\"nofollow noopener noreferrer\" target=\"_blank\">#<span>Texans</span></a> <a href=\"https://channels.im/tags/Texas\" class=\"mention hashtag\" rel=\"nofollow noopener noreferrer\" target=\"_blank\">#<span>Texas</span></a></p></div>"
      ],
      "text/plain": [
       "<IPython.core.display.HTML object>"
      ]
     },
     "metadata": {},
     "output_type": "display_data"
    },
    {
     "name": "stdout",
     "output_type": "stream",
     "text": [
      "europesays:\n"
     ]
    },
    {
     "data": {
      "text/html": [
       "<div style=\"padding-left: 0.5in;\"><p><a href=\"https://www.europesays.com/901984/\" rel=\"nofollow noopener noreferrer\" target=\"_blank\"><span class=\"invisible\">https://www.</span><span class=\"\">europesays.com/901984/</span><span class=\"invisible\"></span></a> [CM] Inter has already started talks with Monza for Andrea Colpani. Marotta has scheduled an appointment with his friend Galliani to understand the costs of buying the player. <a href=\"https://pubeurope.com/tags/F\" class=\"mention hashtag\" rel=\"nofollow noopener noreferrer\" target=\"_blank\">#<span>F</span></a>.C.InternazionaleMilano <a href=\"https://pubeurope.com/tags/FCInterMilan\" class=\"mention hashtag\" rel=\"nofollow noopener noreferrer\" target=\"_blank\">#<span>FCInterMilan</span></a> <a href=\"https://pubeurope.com/tags/Football\" class=\"mention hashtag\" rel=\"nofollow noopener noreferrer\" target=\"_blank\">#<span>Football</span></a> <a href=\"https://pubeurope.com/tags/InterMilan\" class=\"mention hashtag\" rel=\"nofollow noopener noreferrer\" target=\"_blank\">#<span>InterMilan</span></a> <a href=\"https://pubeurope.com/tags/ItalianFootball\" class=\"mention hashtag\" rel=\"nofollow noopener noreferrer\" target=\"_blank\">#<span>ItalianFootball</span></a> <a href=\"https://pubeurope.com/tags/italy\" class=\"mention hashtag\" rel=\"nofollow noopener noreferrer\" target=\"_blank\">#<span>italy</span></a> <a href=\"https://pubeurope.com/tags/Soccer\" class=\"mention hashtag\" rel=\"nofollow noopener noreferrer\" target=\"_blank\">#<span>Soccer</span></a></p></div>"
      ],
      "text/plain": [
       "<IPython.core.display.HTML object>"
      ]
     },
     "metadata": {},
     "output_type": "display_data"
    },
    {
     "name": "stdout",
     "output_type": "stream",
     "text": [
      "europesays:\n"
     ]
    },
    {
     "data": {
      "text/html": [
       "<div style=\"padding-left: 0.5in;\"><p><a href=\"https://www.europesays.com/901982/\" rel=\"nofollow noopener noreferrer\" target=\"_blank\"><span class=\"invisible\">https://www.</span><span class=\"\">europesays.com/901982/</span><span class=\"invisible\"></span></a> Mexican National Team coach: Gimenez should look at every option to go to a bigger club <a href=\"https://pubeurope.com/tags/DutchFootball\" class=\"mention hashtag\" rel=\"nofollow noopener noreferrer\" target=\"_blank\">#<span>DutchFootball</span></a> <a href=\"https://pubeurope.com/tags/DutchFootballLeague\" class=\"mention hashtag\" rel=\"nofollow noopener noreferrer\" target=\"_blank\">#<span>DutchFootballLeague</span></a> <a href=\"https://pubeurope.com/tags/Football\" class=\"mention hashtag\" rel=\"nofollow noopener noreferrer\" target=\"_blank\">#<span>Football</span></a> <a href=\"https://pubeurope.com/tags/netherlands\" class=\"mention hashtag\" rel=\"nofollow noopener noreferrer\" target=\"_blank\">#<span>netherlands</span></a> <a href=\"https://pubeurope.com/tags/Soccer\" class=\"mention hashtag\" rel=\"nofollow noopener noreferrer\" target=\"_blank\">#<span>Soccer</span></a></p></div>"
      ],
      "text/plain": [
       "<IPython.core.display.HTML object>"
      ]
     },
     "metadata": {},
     "output_type": "display_data"
    }
   ],
   "source": [
    "import tootutilities \n",
    "tootutilities.print_toots(saved_toots)"
   ]
  },
  {
   "cell_type": "markdown",
   "metadata": {},
   "source": [
    "<hr style=\"height:2px; border:none; color:#AAA; background-color:#AAA;\">"
   ]
  },
  {
   "cell_type": "markdown",
   "metadata": {
    "tags": []
   },
   "source": [
    "# 12.12 Cleaning/Preprocessing Toots for Analysis\n",
    "* **Data cleaning** is one of data scientists' most common and important tasks \n",
    "* Depending on the text analyses you wish to perform, you may need to normalize text so NLP tools can \"understand\" it\n",
    "    * abbreviations, slang, incorrectly spelled words, inconsistent formatting, etc. can limit NLP tools' ability to understand and analyze text \n",
    "* Some NLP tasks (Lesson 11) for normalizing social media posts\n",
    "    * Converting all text to the same case\n",
    "    * Removing `#` from hashtags, `@`-mentions, duplicates, hashtags\n",
    "    * Removing excess whitespace, punctuation, **stop words**, URLs\n",
    "    * **Stemming** and **lemmatization**\n",
    "    * **Tokenization**\n",
    "    * Removing formatting, like HTML, which NLP tools might not understand"
   ]
  },
  {
   "cell_type": "markdown",
   "metadata": {},
   "source": [
    "### **BeautifulSoup4** Library\n",
    "* https://www.crummy.com/software/BeautifulSoup/\n",
    "> `pip install beautifulsoup4`\n",
    "* Most popular library for **parsing HTML and extracting content** from it\n",
    "* Commonly used to **data-mine content in web pages**"
   ]
  },
  {
   "cell_type": "markdown",
   "metadata": {
    "tags": []
   },
   "source": [
    "### **tweet-preprocessor** Library \n",
    "* https://github.com/s/preprocessor\n",
    "* Library designed to clean tweets, but useful for posts in general\n",
    "* `pip install tweet-preprocessor`\n",
    "* Can automatically remove any combination of:\n",
    "\n",
    "| Option | Option constant |\n",
    "| :--- | :--- |\n",
    "| **`OPT.MENTION`** | @-Mentions (e.g., `@nasa`) |\n",
    "| **`OPT.EMOJI`** | Emoji |\n",
    "| **`OPT.HASHTAG`** | Hashtag (e.g., `#mars`) |\n",
    "| **`OPT.NUMBER`** | Number |\n",
    "| **`OPT.RESERVED`** | Twitter reserved Words (`RT` and `FAV`) |\n",
    "| **`OPT.SMILEY`** | Smiley |\n",
    "| **`OPT.URL`** | URL |"
   ]
  },
  {
   "cell_type": "markdown",
   "metadata": {},
   "source": [
    "## **Example:** Cleaning a Toot Containing HTML and a URL"
   ]
  },
  {
   "cell_type": "code",
   "execution_count": 86,
   "metadata": {
    "tags": []
   },
   "outputs": [],
   "source": [
    "toot_text = '<p style=\"padding-left: 3em\">A sample fake toot with a URL https://nasa.gov</p>'"
   ]
  },
  {
   "cell_type": "markdown",
   "metadata": {},
   "source": [
    "* **BeautifulSoup** library can be used to **parse HTML and extract content** from it"
   ]
  },
  {
   "cell_type": "code",
   "execution_count": 87,
   "metadata": {
    "tags": []
   },
   "outputs": [],
   "source": [
    "from bs4 import BeautifulSoup"
   ]
  },
  {
   "cell_type": "code",
   "execution_count": 88,
   "metadata": {
    "tags": []
   },
   "outputs": [],
   "source": [
    "soup = BeautifulSoup(toot_text, 'html.parser') "
   ]
  },
  {
   "cell_type": "code",
   "execution_count": 89,
   "metadata": {
    "tags": []
   },
   "outputs": [],
   "source": [
    "plain_text = soup.get_text() # remove all HTML/CSS tags and commands"
   ]
  },
  {
   "cell_type": "code",
   "execution_count": 90,
   "metadata": {
    "tags": []
   },
   "outputs": [
    {
     "data": {
      "text/plain": [
       "'A sample fake toot with a URL https://nasa.gov'"
      ]
     },
     "execution_count": 90,
     "metadata": {},
     "output_type": "execute_result"
    }
   ],
   "source": [
    "plain_text"
   ]
  },
  {
   "cell_type": "markdown",
   "metadata": {},
   "source": [
    "* The **tweet-preprocessor** library’s module name is **`preprocessor`**"
   ]
  },
  {
   "cell_type": "code",
   "execution_count": 91,
   "metadata": {
    "tags": []
   },
   "outputs": [],
   "source": [
    "import preprocessor as p"
   ]
  },
  {
   "cell_type": "code",
   "execution_count": 92,
   "metadata": {
    "tags": []
   },
   "outputs": [],
   "source": [
    "p.set_options(p.OPT.URL)"
   ]
  },
  {
   "cell_type": "code",
   "execution_count": 93,
   "metadata": {
    "tags": []
   },
   "outputs": [
    {
     "data": {
      "text/plain": [
       "'A sample fake toot with a URL'"
      ]
     },
     "execution_count": 93,
     "metadata": {},
     "output_type": "execute_result"
    }
   ],
   "source": [
    "p.clean(plain_text)"
   ]
  },
  {
   "cell_type": "markdown",
   "metadata": {},
   "source": [
    "------"
   ]
  },
  {
   "cell_type": "markdown",
   "metadata": {
    "tags": []
   },
   "source": [
    "# 12.13 Mastodon Streaming API\n",
    "* Your app can receive various Mastodon streams as they occur in real-time\n",
    "    * `stream_hashtag` — toots containing specified hashtag (home timeline and notifications)\n",
    "    * `stream_user` — events related to the logged in user account\n",
    "    * `stream_public` — public fediverse event stream\n",
    "    * `stream_local` — local server event stream\n",
    "    * `stream_list` — events for the specified user, but resticted to accounts from a list "
   ]
  },
  {
   "cell_type": "markdown",
   "metadata": {
    "tags": []
   },
   "source": [
    "## Creating a Subclass of `StreamListener` \n",
    "* Mastodon **pushes** data to your listener\n",
    "* Streaming rate varies \n",
    "* Create a **subclass of Mastodon.py’s `StreamListener` class** to process the stream\n",
    "* Mastodon.py calls `StreamListener` methods as it receives events\n",
    "    * `on_update(self, status)` is called when when a toot arrives from the stream\n",
    "    * `StreamListener` defines other **`on_`** methods for other \"events\"\n",
    "    > https://mastodonpy.readthedocs.io/en/stable/10_streaming.html#streamlistener\n",
    "    * Override only the methods your app needs"
   ]
  },
  {
   "cell_type": "markdown",
   "metadata": {
    "tags": []
   },
   "source": [
    "## Class `TootListener` (Located in tootlistener.py)\n",
    "\n",
    "```python\n",
    "# tootlistener.py\n",
    "\"\"\"StreamListener subclass that processes tweets as they arrive.\"\"\"\n",
    "from mastodon import StreamListener\n",
    "import tootutilities \n",
    "\n",
    "# Global variable toot_listener_stream will be set to the stream handle so  \n",
    "# we can close the stream after a specified number of toots are received\n",
    "toot_listener_stream = None \n",
    "\n",
    "class TootListener(StreamListener):\n",
    "    \"\"\"Handles incoming toot stream.\"\"\"\n",
    "\n",
    "    def __init__(self, limit=10):\n",
    "        \"\"\"Create instance variables for tracking number of tweets.\"\"\"\n",
    "        self.toot_count = 0\n",
    "        self.TOOT_LIMIT = limit\n",
    "\n",
    "    def on_update(self, status):\n",
    "        \"\"\"Called when your listener receives a toot (status).\"\"\"\n",
    "        tootutilities.print_toot(status)\n",
    "        print()\n",
    "        self.toot_count += 1 # track number of toots received\n",
    "            \n",
    "        # if TOOT_LIMIT is reached, close the stream\n",
    "        if self.toot_count == self.TOOT_LIMIT:\n",
    "            toot_listener_stream.close()\n",
    "```"
   ]
  },
  {
   "cell_type": "markdown",
   "metadata": {
    "tags": []
   },
   "source": [
    "## **Example:** Streaming the Mastodon Federated Timeline"
   ]
  },
  {
   "cell_type": "markdown",
   "metadata": {
    "tags": []
   },
   "source": [
    "### Creating a `TootListener` \n",
    "* `StreamListener` subclass `TootListener` manages the connection to the Mastodon stream and receives and processes the toots"
   ]
  },
  {
   "cell_type": "code",
   "execution_count": 94,
   "metadata": {
    "tags": []
   },
   "outputs": [],
   "source": [
    "import tootlistener "
   ]
  },
  {
   "cell_type": "code",
   "execution_count": 95,
   "metadata": {
    "tags": []
   },
   "outputs": [],
   "source": [
    "toot_listener = tootlistener.TootListener(limit=5)"
   ]
  },
  {
   "cell_type": "markdown",
   "metadata": {
    "tags": []
   },
   "source": [
    "### Streaming All Public Events\n",
    "* Events that are not toots are ignored by our `StreamListener` subclass\n",
    "    * notifications (e.g., someone followed you or reblogged your post)\n",
    "    * a toot deleted\n",
    "    * someone direct messaged you\n",
    "    * a toot was edited\n",
    "    * the streaming connection terminated\n",
    "* `stream_public` starts the live stream\n",
    "    * `toot_listener` receives each event—for toots, displays toot text\n",
    "    * `run_async=True` ensures that `stream_public` **returns a stream handle** we can use to **close the stream**\n",
    "* **Asynchronous vs. Synchronous Streams**\n",
    "    * `run_async=True` (asynchronous) runs the stream in a separate thread and returns a stream handle for managing the stream\n",
    "    * `run_async=False` (synchronous) runs the stream forever unless an unanticipated failure occurs, such as an unhandled exception"
   ]
  },
  {
   "cell_type": "code",
   "execution_count": 96,
   "metadata": {
    "tags": []
   },
   "outputs": [
    {
     "name": "stdout",
     "output_type": "stream",
     "text": [
      "natalieharrower:\n"
     ]
    },
    {
     "data": {
      "text/html": [
       "<div style=\"padding-left: 0.5in;\"><p>Well, not that he asked me, but my response is: that’s a bad idea. We are in a global world and Canada will become inward looking and behind and that will negatively affect the domestic economy.</p></div>"
      ],
      "text/plain": [
       "<IPython.core.display.HTML object>"
      ]
     },
     "metadata": {},
     "output_type": "display_data"
    },
    {
     "name": "stdout",
     "output_type": "stream",
     "text": [
      "\n",
      "cloudflare:\n"
     ]
    },
    {
     "data": {
      "text/html": [
       "<div style=\"padding-left: 0.5in;\"><p>Orange highlights 🧡 from day 1 of <a href=\"https://noc.social/tags/AfricaCom\" class=\"mention hashtag\" rel=\"nofollow noopener noreferrer\" target=\"_blank\">#<span>AfricaCom</span></a></p><p>There's still time to swing by for tech talks, competitions and cy-bar smoothies! Find us in Hall 3, B71A.</p></div>"
      ],
      "text/plain": [
       "<IPython.core.display.HTML object>"
      ]
     },
     "metadata": {},
     "output_type": "display_data"
    },
    {
     "name": "stdout",
     "output_type": "stream",
     "text": [
      "\n",
      "mxv:\n"
     ]
    },
    {
     "data": {
      "text/html": [
       "<div style=\"padding-left: 0.5in;\"><p>My solo <a href=\"https://social.tryptophonic.com/tags/music\" class=\"mention hashtag\" rel=\"nofollow noopener noreferrer\" target=\"_blank\">#<span>music</span></a> project <a href=\"https://social.tryptophonic.com/tags/Homeostasis\" class=\"mention hashtag\" rel=\"nofollow noopener noreferrer\" target=\"_blank\">#<span>Homeostasis</span></a> has veered haphazardly through a variety of genres, but there's always been at least an undercurrent of <a href=\"https://social.tryptophonic.com/tags/ElectroIndustrial\" class=\"mention hashtag\" rel=\"nofollow noopener noreferrer\" target=\"_blank\">#<span>ElectroIndustrial</span></a> running through it. This is \"31 Ga\" from Selections from the Periodic Table (2013), which is probably the least dark of the five tracks / clips produced for the project. <a href=\"https://social.tryptophonic.com/tags/electronic\" class=\"mention hashtag\" rel=\"nofollow noopener noreferrer\" target=\"_blank\">#<span>electronic</span></a> <a href=\"https://social.tryptophonic.com/tags/experimental\" class=\"mention hashtag\" rel=\"nofollow noopener noreferrer\" target=\"_blank\">#<span>experimental</span></a> <a href=\"https://social.tryptophonic.com/tags/industrial\" class=\"mention hashtag\" rel=\"nofollow noopener noreferrer\" target=\"_blank\">#<span>industrial</span></a> <a href=\"https://social.tryptophonic.com/tags/noise\" class=\"mention hashtag\" rel=\"nofollow noopener noreferrer\" target=\"_blank\">#<span>noise</span></a> <a href=\"https://video.tryptophonic.com/w/oPUpcueLxpo2Mz5GHqoLks\" rel=\"nofollow noopener noreferrer\" translate=\"no\" target=\"_blank\"><span class=\"invisible\">https://</span><span class=\"ellipsis\">video.tryptophonic.com/w/oPUpc</span><span class=\"invisible\">ueLxpo2Mz5GHqoLks</span></a></p></div>"
      ],
      "text/plain": [
       "<IPython.core.display.HTML object>"
      ]
     },
     "metadata": {},
     "output_type": "display_data"
    },
    {
     "name": "stdout",
     "output_type": "stream",
     "text": [
      "\n",
      "nessilinikoniko:\n",
      "ORIGINAL: \n"
     ]
    },
    {
     "data": {
      "text/html": [
       "<div style=\"padding-left: 0.5in;\"><p>免罪符！！</p></div>"
      ],
      "text/plain": [
       "<IPython.core.display.HTML object>"
      ]
     },
     "metadata": {},
     "output_type": "display_data"
    },
    {
     "name": "stdout",
     "output_type": "stream",
     "text": [
      "TRANSLATED: \n"
     ]
    },
    {
     "data": {
      "text/html": [
       "<div style=\"padding-left: 0.5in;\">Exonerating talisman!</div>"
      ],
      "text/plain": [
       "<IPython.core.display.HTML object>"
      ]
     },
     "metadata": {},
     "output_type": "display_data"
    },
    {
     "name": "stdout",
     "output_type": "stream",
     "text": [
      "\n",
      "joukjebroier:\n"
     ]
    },
    {
     "data": {
      "text/html": [
       "<div style=\"padding-left: 0.5in;\"><p>Oudste zoon zit voor der derde keer in Engeland in retraite.</p></div>"
      ],
      "text/plain": [
       "<IPython.core.display.HTML object>"
      ]
     },
     "metadata": {},
     "output_type": "display_data"
    },
    {
     "name": "stdout",
     "output_type": "stream",
     "text": [
      "\n"
     ]
    }
   ],
   "source": [
    "# store the stream handle \n",
    "tootlistener.toot_listener_stream = mastodon.stream_public(\n",
    "    toot_listener, run_async=True)"
   ]
  },
  {
   "cell_type": "markdown",
   "metadata": {},
   "source": [
    "------"
   ]
  },
  {
   "cell_type": "markdown",
   "metadata": {
    "jp-MarkdownHeadingCollapsed": true,
    "jupyter": {
     "source_hidden": true
    },
    "tags": []
   },
   "source": [
    "# 12.14 **Example:** Sentiment Analysis \n",
    "* Political researchers might use during elections to understand how people feel about specific politicians and issues, and **how they're likely to vote**\n",
    "* Companies might use to see **what people are saying about their products and competitors’ products**\n",
    "* Class `SentimentListener` (in `sentimentlistener.py`) checks sentiment on toots "
   ]
  },
  {
   "cell_type": "markdown",
   "metadata": {
    "jp-MarkdownHeadingCollapsed": true,
    "tags": []
   },
   "source": [
    "## Class `SentimentListener`\n",
    "```python\n",
    "# sentimentlisener.py\n",
    "\"\"\"Tallies the number of positive, neutral and negative toots.\"\"\"\n",
    "import keys_mastodon\n",
    "from better_profanity import profanity \n",
    "from mastodon import StreamListener\n",
    "from bs4 import BeautifulSoup\n",
    "import deepl\n",
    "import preprocessor as p \n",
    "from textblob import TextBlob\n",
    "\n",
    "# load censored words list\n",
    "profanity.load_censor_words()\n",
    "\n",
    "# stream will be set to the stream handle so we can close \n",
    "# the stream after a specified number of toots are received\n",
    "sentiment_listener_stream = None\n",
    "\n",
    "# translator to autodetect source language and return English\n",
    "translator = deepl.Translator(keys_mastodon.deepL_key)\n",
    "\n",
    "class SentimentListener(StreamListener):\n",
    "    \"\"\"Handles incoming Tweet stream.\"\"\"\n",
    "\n",
    "    def __init__(self, sentiment_dict, limit=10):\n",
    "        \"\"\"Configure the SentimentListener.\"\"\"\n",
    "        self.sentiment_dict = sentiment_dict\n",
    "        self.toot_count = 0\n",
    "        self.TOOT_LIMIT = limit\n",
    "        \n",
    "        # tweet-preprocessor remove @ mentions, emojis, hashtags, URLs\n",
    "        p.set_options(p.OPT.MENTION, p.OPT.EMOJI, p.OPT.HASHTAG, p.OPT.URL)\n",
    "\n",
    "    def on_update(self, status):\n",
    "        \"\"\"Called when Mastodon pushes a new toot to you.\"\"\"\n",
    "\n",
    "        # if the toot is not a retoot\n",
    "        if status.reblogs_count == 0:                 \n",
    "            # remove all HTML/CSS tags and commands\n",
    "            plain_text = BeautifulSoup(\n",
    "                status.content, 'html.parser').get_text()\n",
    "\n",
    "            # clean the toot\n",
    "            text = p.clean(plain_text) \n",
    "\n",
    "            # possibly translate plain_text\n",
    "            if status.language and not status.language.startswith('en'):\n",
    "                try:\n",
    "                    result = translator.translate_text(\n",
    "                        plain_text, target_lang='en-us')\n",
    "                    text = profanity.censor(result.text) # save translated text\n",
    "                except:\n",
    "                    text = 'toot was empty'   \n",
    "\n",
    "            # update self.sentiment_dict with the polarity\n",
    "            blob = TextBlob(text)\n",
    "            if blob.sentiment.polarity > 0.1:\n",
    "                sentiment = '+'\n",
    "                self.sentiment_dict['positive'] += 1 \n",
    "            elif blob.sentiment.polarity < -0.1:\n",
    "                sentiment = '-'\n",
    "                self.sentiment_dict['negative'] += 1 \n",
    "            else:\n",
    "                sentiment = ' '\n",
    "                self.sentiment_dict['neutral'] += 1 \n",
    "\n",
    "            # display the toot\n",
    "            print(f'{sentiment} {status.account.username}: {text}\\n')\n",
    "\n",
    "            self.toot_count += 1 # track number of toots processed\n",
    "\n",
    "        # if TOOT_LIMIT reached, terminate streaming \n",
    "        if self.toot_count == self.TOOT_LIMIT:\n",
    "            sentiment_listener_stream.close()\n",
    "```"
   ]
  },
  {
   "cell_type": "markdown",
   "metadata": {
    "tags": []
   },
   "source": [
    "## Main Application"
   ]
  },
  {
   "cell_type": "markdown",
   "metadata": {
    "tags": []
   },
   "source": [
    "### Specify number of toots to tally"
   ]
  },
  {
   "cell_type": "code",
   "execution_count": null,
   "metadata": {
    "tags": []
   },
   "outputs": [],
   "source": [
    "limit = 10"
   ]
  },
  {
   "cell_type": "markdown",
   "metadata": {
    "tags": []
   },
   "source": [
    "### Set up Dictionary to Track Toot Sentiment"
   ]
  },
  {
   "cell_type": "code",
   "execution_count": null,
   "metadata": {
    "tags": []
   },
   "outputs": [],
   "source": [
    "sentiment_dict = {'positive': 0, 'neutral': 0, 'negative': 0}"
   ]
  },
  {
   "cell_type": "markdown",
   "metadata": {
    "tags": []
   },
   "source": [
    "### Create `StreamListener` Subclass Object"
   ]
  },
  {
   "cell_type": "code",
   "execution_count": null,
   "metadata": {
    "tags": []
   },
   "outputs": [],
   "source": [
    "import sentimentlistener \n",
    "sentiment_listener = sentimentlistener.SentimentListener(sentiment_dict, limit)"
   ]
  },
  {
   "cell_type": "markdown",
   "metadata": {
    "tags": []
   },
   "source": [
    "### Start Stream and Store Its Handle"
   ]
  },
  {
   "cell_type": "code",
   "execution_count": null,
   "metadata": {
    "tags": []
   },
   "outputs": [],
   "source": [
    "sentimentlistener.sentiment_listener_stream = mastodon.stream_public(\n",
    "    sentiment_listener, run_async=True)"
   ]
  },
  {
   "cell_type": "markdown",
   "metadata": {
    "tags": []
   },
   "source": [
    "#### Display summary of results"
   ]
  },
  {
   "cell_type": "code",
   "execution_count": null,
   "metadata": {
    "tags": []
   },
   "outputs": [],
   "source": [
    "print(f'Toot sentiment:')\n",
    "print('Positive:', sentiment_dict['positive'])\n",
    "print(' Neutral:', sentiment_dict['neutral'])\n",
    "print('Negative:', sentiment_dict['negative'])"
   ]
  },
  {
   "cell_type": "markdown",
   "metadata": {
    "tags": []
   },
   "source": [
    "------"
   ]
  },
  {
   "cell_type": "markdown",
   "metadata": {
    "tags": []
   },
   "source": [
    "# 12.15 **Example:** Geocoding and Mapping\n",
    "* Collect streaming toots\n",
    "* Look up sever locations and plot toots at those loctions on an interactive map\n",
    "* **Mastodon is privacy focused**\n",
    "    * Only server admins have access to any location data\n",
    "* Even in Twitter, geo location is off by default, though many accounts specify home location \n",
    "    * Sometimes invalid or fictitious \n",
    "* Map markers will show the sender's `location` and toot text"
   ]
  },
  {
   "cell_type": "markdown",
   "metadata": {
    "tags": []
   },
   "source": [
    "### **geopy** library\n",
    "* https://github.com/geopy/geopy\n",
    "* Installed in Section 5\n",
    "* **Geocoding** — translate locations into **latitude** and **longitude**\n",
    "* **geopy** supports dozens of **geocoding web services**, many with **free or lite tiers**\n"
   ]
  },
  {
   "cell_type": "markdown",
   "metadata": {},
   "source": [
    "### **folium library** and Leaflet.js JavaScript Mapping Library\n",
    "* https://github.com/python-visualization/folium\n",
    "* Setup in Section 5\n",
    "* For maps — uses **Leaflet.js JavaScript mapping library** to display maps in a web page \n",
    "* Folium can save HTML files that you can view in your web browser or add to a website"
   ]
  },
  {
   "cell_type": "markdown",
   "metadata": {
    "tags": []
   },
   "source": [
    "## Getting and Mapping the Toots\n",
    "* We’ll use utility functions from our **`tootutilities.py`** file and class **`LocationListener`** in **`locationlistener.py`**\n",
    "* Each is included after the example"
   ]
  },
  {
   "cell_type": "markdown",
   "metadata": {},
   "source": [
    "### Collections Required By LocationListener\n",
    "* a list (`toots`) to store the data from the toots we collect \n",
    "* a dictionary (`counts`) to track the total number of toots we collect and the number that have location data"
   ]
  },
  {
   "cell_type": "code",
   "execution_count": 97,
   "metadata": {
    "tags": []
   },
   "outputs": [],
   "source": [
    "toots = [] \n",
    "counts = {'total_toots': 0, 'locations': 0}"
   ]
  },
  {
   "cell_type": "markdown",
   "metadata": {
    "tags": []
   },
   "source": [
    "### Creating the LocationListener \n",
    "* Collect 50 toots \n",
    "* `LocationListener` will use utility function `get_toot_content` (located in `tootutilities.py`; discussed after this example) to place in a dictionary the `username`, toot `text` and Mastodon server `location` from each toot"
   ]
  },
  {
   "cell_type": "code",
   "execution_count": 98,
   "metadata": {
    "tags": []
   },
   "outputs": [],
   "source": [
    "import locationlistener \n",
    "\n",
    "location_listener = locationlistener.LocationListener(\n",
    "    counts_dict=counts, toots_list=toots, limit=50)"
   ]
  },
  {
   "cell_type": "markdown",
   "metadata": {},
   "source": [
    "### Start Stream and Store Its Handle\n",
    "* We display the toot count so far and usernames to show progress"
   ]
  },
  {
   "cell_type": "code",
   "execution_count": 99,
   "metadata": {
    "tags": []
   },
   "outputs": [
    {
     "name": "stdout",
     "output_type": "stream",
     "text": [
      " 1: NewClimateParty_NordicGrenns\n",
      " 2: shiroujun\n",
      " 3: wellingtonrock\n",
      " 4: Viviane_DPR\n",
      " 5: caracabe\n",
      " 6: ai6yr\n",
      " 7: geofon\n",
      " 8: archillect\n",
      " 9: carbonara\n",
      "10: soesoesoeg\n",
      "11: Birdy_Torishira\n",
      "12: zssk_mimoriadne\n",
      "13: hund\n",
      "14: magicaproject_europe\n",
      "15: shaugn\n",
      "16: tikistitch\n",
      "17: blakes7bot\n",
      "18: sleepindustry\n",
      "19: DiB\n",
      "20: bitpickup\n",
      "21: yoshi_vsapo\n",
      "22: sia193\n",
      "23: yuyuhe2021\n",
      "24: you0328p\n",
      "25: renedepaula\n",
      "26: Soferl\n",
      "27: marvin_h2g2\n",
      "28: lubieniebieski\n",
      "29: knifesheepi\n",
      "30: Paulos_the_fog\n",
      "31: NightCat\n",
      "32: o22ie\n",
      "33: hinano\n",
      "34: Kurt\n",
      "35: mullana\n",
      "36: Tori_e\n",
      "37: lachen\n",
      "38: smolcasm\n",
      "39: rtlnieuws\n",
      "40: MaoMaoBGs\n",
      "41: nessilinikoniko\n",
      "42: tochu_cha\n",
      "43: UniUnicorn\n",
      "44: victor\n",
      "45: NicoSchira\n",
      "46: Lutz101\n",
      "47: otiswhite\n",
      "48: romatoday\n",
      "49: verge\n",
      "50: harald\n"
     ]
    }
   ],
   "source": [
    "locationlistener.location_listener_stream = mastodon.stream_public(\n",
    "    location_listener, run_async=True)"
   ]
  },
  {
   "cell_type": "markdown",
   "metadata": {
    "jupyter": {
     "source_hidden": true
    },
    "tags": []
   },
   "source": [
    "### Displaying the Location Statistics\n",
    "* of the toots we processed, check the percentage of servers for which we were able to find locations (should be 100%)"
   ]
  },
  {
   "cell_type": "code",
   "execution_count": null,
   "metadata": {
    "jupyter": {
     "source_hidden": true
    },
    "tags": []
   },
   "outputs": [],
   "source": [
    "counts['total_toots']"
   ]
  },
  {
   "cell_type": "code",
   "execution_count": null,
   "metadata": {
    "jupyter": {
     "source_hidden": true
    },
    "tags": []
   },
   "outputs": [],
   "source": [
    "counts['locations']"
   ]
  },
  {
   "cell_type": "code",
   "execution_count": null,
   "metadata": {
    "jupyter": {
     "source_hidden": true
    },
    "tags": []
   },
   "outputs": [],
   "source": [
    "print(f'{counts[\"locations\"] / counts[\"total_toots\"]:.1%}')"
   ]
  },
  {
   "cell_type": "markdown",
   "metadata": {},
   "source": [
    "### Geocoding the Locations\n",
    "* Use `get_geocodes` utility function (from `tootutilities.py`; discussed after this example) to geocode the location of each toot stored in the list of toots"
   ]
  },
  {
   "cell_type": "code",
   "execution_count": 100,
   "metadata": {
    "tags": []
   },
   "outputs": [
    {
     "name": "stdout",
     "output_type": "stream",
     "text": [
      "Getting coordinates for mastodon server locations...\n",
      "Done geocoding\n"
     ]
    }
   ],
   "source": [
    "from tootutilities import get_geocodes\n",
    "\n",
    "bad_locations = get_geocodes(toots)"
   ]
  },
  {
   "cell_type": "markdown",
   "metadata": {
    "jupyter": {
     "source_hidden": true
    },
    "tags": []
   },
   "source": [
    "* For each toot with a valid location, the `get_geocodes` function adds the new keys `'latitude'` and `'longitude'` to that toot’s dictionary in the `toots` list — these will be used to plot map markers on our interactive map"
   ]
  },
  {
   "cell_type": "markdown",
   "metadata": {
    "jupyter": {
     "source_hidden": true
    },
    "tags": []
   },
   "source": [
    "### Displaying the Bad Location Statistics\n",
    "* If geopy is unable to geo-encode a specific location `bad_locations` will be greater than 0"
   ]
  },
  {
   "cell_type": "code",
   "execution_count": null,
   "metadata": {
    "jupyter": {
     "source_hidden": true
    },
    "tags": []
   },
   "outputs": [],
   "source": [
    "bad_locations "
   ]
  },
  {
   "cell_type": "code",
   "execution_count": null,
   "metadata": {
    "jupyter": {
     "source_hidden": true
    },
    "tags": []
   },
   "outputs": [],
   "source": [
    "print(f'{bad_locations / counts[\"locations\"]:.1%}')"
   ]
  },
  {
   "cell_type": "markdown",
   "metadata": {},
   "source": [
    "### Cleaning the Data\n",
    "* Before we plot the toot locations on a map, let’s use a pandas `DataFrame` to clean the data\n",
    "* When you create a `DataFrame` from the `toots` list, it may contain `NaN` for `'latitude'` and `'longitude'` if geopy was unable to geoencode a specific location \n",
    "* `NaN` cannot be plotted on a map, so remove any rows containing `NaN` by calling the `DataFrame`’s `dropna` method"
   ]
  },
  {
   "cell_type": "code",
   "execution_count": 101,
   "metadata": {
    "tags": []
   },
   "outputs": [],
   "source": [
    "import pandas as pd"
   ]
  },
  {
   "cell_type": "code",
   "execution_count": 102,
   "metadata": {
    "tags": []
   },
   "outputs": [],
   "source": [
    "df = pd.DataFrame(toots)"
   ]
  },
  {
   "cell_type": "code",
   "execution_count": 103,
   "metadata": {
    "tags": []
   },
   "outputs": [
    {
     "data": {
      "text/html": [
       "<div>\n",
       "<style scoped>\n",
       "    .dataframe tbody tr th:only-of-type {\n",
       "        vertical-align: middle;\n",
       "    }\n",
       "\n",
       "    .dataframe tbody tr th {\n",
       "        vertical-align: top;\n",
       "    }\n",
       "\n",
       "    .dataframe thead th {\n",
       "        text-align: right;\n",
       "    }\n",
       "</style>\n",
       "<table border=\"1\" class=\"dataframe\">\n",
       "  <thead>\n",
       "    <tr style=\"text-align: right;\">\n",
       "      <th></th>\n",
       "      <th>username</th>\n",
       "      <th>text</th>\n",
       "      <th>location</th>\n",
       "      <th>latitude</th>\n",
       "      <th>longitude</th>\n",
       "    </tr>\n",
       "  </thead>\n",
       "  <tbody>\n",
       "    <tr>\n",
       "      <th>0</th>\n",
       "      <td>NewClimateParty_NordicGrenns</td>\n",
       "      <td>&lt;p&gt;Kan Golfströmmen kollapsa redan 2025? - Stu...</td>\n",
       "      <td>San Francisco, California, US</td>\n",
       "      <td>37.777120</td>\n",
       "      <td>-122.419660</td>\n",
       "    </tr>\n",
       "    <tr>\n",
       "      <th>1</th>\n",
       "      <td>shiroujun</td>\n",
       "      <td>&lt;p&gt;&lt;a href=\"https://o3o.ca/tags/%E4%BB%8A%E6%9...</td>\n",
       "      <td>San Francisco, California, US</td>\n",
       "      <td>37.777120</td>\n",
       "      <td>-122.419660</td>\n",
       "    </tr>\n",
       "    <tr>\n",
       "      <th>2</th>\n",
       "      <td>wellingtonrock</td>\n",
       "      <td>&lt;p&gt;&amp;#39;But there is still a chance to paint a...</td>\n",
       "      <td>San Francisco, California, US</td>\n",
       "      <td>37.777120</td>\n",
       "      <td>-122.419660</td>\n",
       "    </tr>\n",
       "    <tr>\n",
       "      <th>3</th>\n",
       "      <td>Viviane_DPR</td>\n",
       "      <td>&lt;p&gt;Once again, not beating the dumb **** alleg...</td>\n",
       "      <td>Gunzenhausen, Bavaria, DE</td>\n",
       "      <td>49.115390</td>\n",
       "      <td>10.753560</td>\n",
       "    </tr>\n",
       "    <tr>\n",
       "      <th>4</th>\n",
       "      <td>caracabe</td>\n",
       "      <td>&lt;p&gt;Two of the three books I’m currently readin...</td>\n",
       "      <td>Lisbon, Lisbon, PT</td>\n",
       "      <td>38.726330</td>\n",
       "      <td>-9.149510</td>\n",
       "    </tr>\n",
       "    <tr>\n",
       "      <th>5</th>\n",
       "      <td>ai6yr</td>\n",
       "      <td>&lt;p&gt;From NWS Los Angeles: Widespread rain is li...</td>\n",
       "      <td>San Francisco, California, US</td>\n",
       "      <td>37.777120</td>\n",
       "      <td>-122.419660</td>\n",
       "    </tr>\n",
       "    <tr>\n",
       "      <th>6</th>\n",
       "      <td>geofon</td>\n",
       "      <td>&lt;****.8, New Britain Region, Papua New Guinea&lt;...</td>\n",
       "      <td>Karlsruhe, Baden-Wurttemberg, DE</td>\n",
       "      <td>49.010940</td>\n",
       "      <td>8.408450</td>\n",
       "    </tr>\n",
       "    <tr>\n",
       "      <th>7</th>\n",
       "      <td>archillect</td>\n",
       "      <td>Aesthetic AI Mood&lt;br&gt;&lt;a href=\"https://pensaer....</td>\n",
       "      <td>Karlsruhe, Baden-Wurttemberg, DE</td>\n",
       "      <td>49.010940</td>\n",
       "      <td>8.408450</td>\n",
       "    </tr>\n",
       "    <tr>\n",
       "      <th>8</th>\n",
       "      <td>carbonara</td>\n",
       "      <td>&lt;p&gt;I have made a terrible mistake wanting to p...</td>\n",
       "      <td>Lisbon, Lisbon, PT</td>\n",
       "      <td>38.726330</td>\n",
       "      <td>-9.149510</td>\n",
       "    </tr>\n",
       "    <tr>\n",
       "      <th>9</th>\n",
       "      <td>soesoesoeg</td>\n",
       "      <td>&lt;p&gt;&lt;span&gt;これは自作トンチキT&lt;/span&gt;&lt;/p&gt;</td>\n",
       "      <td>San Francisco, California, US</td>\n",
       "      <td>37.777120</td>\n",
       "      <td>-122.419660</td>\n",
       "    </tr>\n",
       "    <tr>\n",
       "      <th>10</th>\n",
       "      <td>Birdy_Torishira</td>\n",
       "      <td>&lt;p&gt;Wait Vaivan is not all machine **** love ah...</td>\n",
       "      <td>San Francisco, California, US</td>\n",
       "      <td>37.777120</td>\n",
       "      <td>-122.419660</td>\n",
       "    </tr>\n",
       "    <tr>\n",
       "      <th>11</th>\n",
       "      <td>zssk_mimoriadne</td>\n",
       "      <td>&lt;p&gt;Ex 605 (Bratislava hl. st. 9:27 - Košice 14...</td>\n",
       "      <td>San Francisco, California, US</td>\n",
       "      <td>37.777120</td>\n",
       "      <td>-122.419660</td>\n",
       "    </tr>\n",
       "    <tr>\n",
       "      <th>12</th>\n",
       "      <td>hund</td>\n",
       "      <td>&lt;p&gt;Coffee is great, but tea is not bad either....</td>\n",
       "      <td>Lisbon, Lisbon, PT</td>\n",
       "      <td>38.726330</td>\n",
       "      <td>-9.149510</td>\n",
       "    </tr>\n",
       "    <tr>\n",
       "      <th>13</th>\n",
       "      <td>magicaproject_europe</td>\n",
       "      <td>&lt;p&gt;A step in &lt;a href=\"https://mastodon.social/...</td>\n",
       "      <td>San Francisco, California, US</td>\n",
       "      <td>37.777120</td>\n",
       "      <td>-122.419660</td>\n",
       "    </tr>\n",
       "    <tr>\n",
       "      <th>14</th>\n",
       "      <td>shaugn</td>\n",
       "      <td>&lt;p&gt;Loopy after 18 hours of travel, but ready t...</td>\n",
       "      <td>Lisbon, Lisbon, PT</td>\n",
       "      <td>38.726330</td>\n",
       "      <td>-9.149510</td>\n",
       "    </tr>\n",
       "    <tr>\n",
       "      <th>15</th>\n",
       "      <td>tikistitch</td>\n",
       "      <td>&lt;p&gt;Even the &lt;a href=\"https://toot.community/ta...</td>\n",
       "      <td>San Francisco, California, US</td>\n",
       "      <td>37.777120</td>\n",
       "      <td>-122.419660</td>\n",
       "    </tr>\n",
       "    <tr>\n",
       "      <th>16</th>\n",
       "      <td>blakes7bot</td>\n",
       "      <td>&lt;p&gt;Blake's 7 Series C, Episode 01 - Aftermath&lt;...</td>\n",
       "      <td>North Bergen, New Jersey, US</td>\n",
       "      <td>40.793010</td>\n",
       "      <td>-74.020380</td>\n",
       "    </tr>\n",
       "    <tr>\n",
       "      <th>17</th>\n",
       "      <td>sleepindustry</td>\n",
       "      <td>&lt;p&gt;Sommier-i Ignifugo – Jetësimi i Qëndruesh...</td>\n",
       "      <td>San Francisco, California, US</td>\n",
       "      <td>37.777120</td>\n",
       "      <td>-122.419660</td>\n",
       "    </tr>\n",
       "    <tr>\n",
       "      <th>18</th>\n",
       "      <td>DiB</td>\n",
       "      <td>&lt;p&gt;📣 Good news! &lt;/p&gt;&lt;p&gt;In order to tackle the ...</td>\n",
       "      <td>Berlin, Berlin, DE</td>\n",
       "      <td>52.516040</td>\n",
       "      <td>13.376910</td>\n",
       "    </tr>\n",
       "    <tr>\n",
       "      <th>19</th>\n",
       "      <td>bitpickup</td>\n",
       "      <td>&lt;p&gt;Question in passing:&lt;br&gt;Why are there actua...</td>\n",
       "      <td>Gunzenhausen, Bavaria, DE</td>\n",
       "      <td>49.115390</td>\n",
       "      <td>10.753560</td>\n",
       "    </tr>\n",
       "    <tr>\n",
       "      <th>20</th>\n",
       "      <td>yoshi_vsapo</td>\n",
       "      <td>&lt;p&gt;七紫煙（@enen0707_sub ）&lt;/p&gt;&lt;p&gt;配信中&lt;/p&gt;&lt;p&gt;【&lt;a hre...</td>\n",
       "      <td>San Francisco, California, US</td>\n",
       "      <td>37.777120</td>\n",
       "      <td>-122.419660</td>\n",
       "    </tr>\n",
       "    <tr>\n",
       "      <th>21</th>\n",
       "      <td>sia193</td>\n",
       "      <td>&lt;p&gt;The theory that the food-fighter one is big...</td>\n",
       "      <td>Tokyo, Tokyo, JP</td>\n",
       "      <td>35.689456</td>\n",
       "      <td>139.691716</td>\n",
       "    </tr>\n",
       "    <tr>\n",
       "      <th>22</th>\n",
       "      <td>yuyuhe2021</td>\n",
       "      <td>&lt;p&gt;Tonight I had a sudden craving for kimchi, ...</td>\n",
       "      <td>San Francisco, California, US</td>\n",
       "      <td>37.777120</td>\n",
       "      <td>-122.419660</td>\n",
       "    </tr>\n",
       "    <tr>\n",
       "      <th>23</th>\n",
       "      <td>you0328p</td>\n",
       "      <td>&lt;p&gt;Have you ever been asked, \"Can I go without...</td>\n",
       "      <td>San Francisco, California, US</td>\n",
       "      <td>37.777120</td>\n",
       "      <td>-122.419660</td>\n",
       "    </tr>\n",
       "    <tr>\n",
       "      <th>24</th>\n",
       "      <td>renedepaula</td>\n",
       "      <td>&lt;p&gt;pedi pro &lt;a href=\"https://c.im/tags/midjour...</td>\n",
       "      <td>San Francisco, California, US</td>\n",
       "      <td>37.777120</td>\n",
       "      <td>-122.419660</td>\n",
       "    </tr>\n",
       "    <tr>\n",
       "      <th>25</th>\n",
       "      <td>Soferl</td>\n",
       "      <td>&lt;p&gt;Did you know that today is pickle day?&lt;br /...</td>\n",
       "      <td>San Francisco, California, US</td>\n",
       "      <td>37.777120</td>\n",
       "      <td>-122.419660</td>\n",
       "    </tr>\n",
       "    <tr>\n",
       "      <th>26</th>\n",
       "      <td>marvin_h2g2</td>\n",
       "      <td>&lt;p&gt;But how about \"washable USB\" - it feels str...</td>\n",
       "      <td>Chiyoda City, Tokyo, JP</td>\n",
       "      <td>35.693937</td>\n",
       "      <td>139.753708</td>\n",
       "    </tr>\n",
       "    <tr>\n",
       "      <th>27</th>\n",
       "      <td>lubieniebieski</td>\n",
       "      <td>&lt;p&gt;🆕 post: Opengraph Previews for Hugo&lt;/p&gt;&lt;p&gt;🔗...</td>\n",
       "      <td>Los Angeles, California, US</td>\n",
       "      <td>34.053570</td>\n",
       "      <td>-118.245450</td>\n",
       "    </tr>\n",
       "    <tr>\n",
       "      <th>28</th>\n",
       "      <td>knifesheepi</td>\n",
       "      <td>&lt;p&gt;I'm hungry and making this even funnier ......</td>\n",
       "      <td>San Francisco, California, US</td>\n",
       "      <td>37.777120</td>\n",
       "      <td>-122.419660</td>\n",
       "    </tr>\n",
       "    <tr>\n",
       "      <th>29</th>\n",
       "      <td>Paulos_the_fog</td>\n",
       "      <td>&lt;p&gt;Oddly, Freddie Frinton was never a **** in ...</td>\n",
       "      <td>Gravelines, Hauts-de-France, FR</td>\n",
       "      <td>50.987084</td>\n",
       "      <td>2.125413</td>\n",
       "    </tr>\n",
       "    <tr>\n",
       "      <th>30</th>\n",
       "      <td>NightCat</td>\n",
       "      <td>&lt;p&gt;ｸﾝｯﾆｯ&lt;/p&gt;</td>\n",
       "      <td>San Francisco, California, US</td>\n",
       "      <td>37.777120</td>\n",
       "      <td>-122.419660</td>\n",
       "    </tr>\n",
       "    <tr>\n",
       "      <th>31</th>\n",
       "      <td>o22ie</td>\n",
       "      <td>&lt;p&gt;While traveling, in-room coffee is a must h...</td>\n",
       "      <td>San Francisco, California, US</td>\n",
       "      <td>37.777120</td>\n",
       "      <td>-122.419660</td>\n",
       "    </tr>\n",
       "    <tr>\n",
       "      <th>32</th>\n",
       "      <td>hinano</td>\n",
       "      <td>&lt;p&gt;&lt;a href=\"https://mastodon-japan.net/tags/%E...</td>\n",
       "      <td>San Francisco, California, US</td>\n",
       "      <td>37.777120</td>\n",
       "      <td>-122.419660</td>\n",
       "    </tr>\n",
       "    <tr>\n",
       "      <th>33</th>\n",
       "      <td>Kurt</td>\n",
       "      <td>&lt;p&gt;​ ​&lt;/p&gt;</td>\n",
       "      <td>Vienna, Vienna, AT</td>\n",
       "      <td>48.202630</td>\n",
       "      <td>16.368420</td>\n",
       "    </tr>\n",
       "    <tr>\n",
       "      <th>34</th>\n",
       "      <td>mullana</td>\n",
       "      <td>&lt;p&gt;Get to work!!! 🙈&lt;/p&gt;</td>\n",
       "      <td>Falkenstein/Vogtl., Saxony, DE</td>\n",
       "      <td>50.476330</td>\n",
       "      <td>12.370320</td>\n",
       "    </tr>\n",
       "    <tr>\n",
       "      <th>35</th>\n",
       "      <td>Tori_e</td>\n",
       "      <td>&lt;p&gt;No one grows by being angry&lt;/p&gt;.</td>\n",
       "      <td>San Francisco, California, US</td>\n",
       "      <td>37.777120</td>\n",
       "      <td>-122.419660</td>\n",
       "    </tr>\n",
       "    <tr>\n",
       "      <th>36</th>\n",
       "      <td>lachen</td>\n",
       "      <td>&lt;p&gt;А чого так, що трапилось? &lt;/p&gt;&lt;p&gt;У вас якіс...</td>\n",
       "      <td>San Francisco, California, US</td>\n",
       "      <td>37.777120</td>\n",
       "      <td>-122.419660</td>\n",
       "    </tr>\n",
       "    <tr>\n",
       "      <th>37</th>\n",
       "      <td>smolcasm</td>\n",
       "      <td>&lt;p&gt;ethics are good and we should do them more&lt;/p&gt;</td>\n",
       "      <td>North Bergen, New Jersey, US</td>\n",
       "      <td>40.793010</td>\n",
       "      <td>-74.020380</td>\n",
       "    </tr>\n",
       "    <tr>\n",
       "      <th>38</th>\n",
       "      <td>rtlnieuws</td>\n",
       "      <td>&lt;p&gt;𝗞𝗼𝘀𝘁𝗲𝗻 𝗿𝗲𝗻𝗼𝘃𝗮𝘁𝗶𝗲 𝘄𝗲𝗴𝗲𝗻, 𝘀𝗽𝗼𝗼𝗿 𝗲𝗻 𝗯𝗿𝘂𝗴𝗴𝗲𝗻 𝘃𝗲...</td>\n",
       "      <td>San Francisco, California, US</td>\n",
       "      <td>37.777120</td>\n",
       "      <td>-122.419660</td>\n",
       "    </tr>\n",
       "    <tr>\n",
       "      <th>39</th>\n",
       "      <td>MaoMaoBGs</td>\n",
       "      <td></td>\n",
       "      <td>North Bergen, New Jersey, US</td>\n",
       "      <td>40.793010</td>\n",
       "      <td>-74.020380</td>\n",
       "    </tr>\n",
       "    <tr>\n",
       "      <th>40</th>\n",
       "      <td>nessilinikoniko</td>\n",
       "      <td>&lt;p&gt;Let me ****! &lt;/p&gt;</td>\n",
       "      <td>San Francisco, California, US</td>\n",
       "      <td>37.777120</td>\n",
       "      <td>-122.419660</td>\n",
       "    </tr>\n",
       "    <tr>\n",
       "      <th>41</th>\n",
       "      <td>tochu_cha</td>\n",
       "      <td>&lt;p&gt;(while &lt;a href=\"https://mstdn.jp/tags/t\" cl...</td>\n",
       "      <td>San Francisco, California, US</td>\n",
       "      <td>37.777120</td>\n",
       "      <td>-122.419660</td>\n",
       "    </tr>\n",
       "    <tr>\n",
       "      <th>42</th>\n",
       "      <td>UniUnicorn</td>\n",
       "      <td>&lt;p&gt;I say I love you&lt;br&gt;You swallow the words a...</td>\n",
       "      <td>Singapore, Central Singapore Community Develop...</td>\n",
       "      <td>1.298680</td>\n",
       "      <td>103.853670</td>\n",
       "    </tr>\n",
       "    <tr>\n",
       "      <th>43</th>\n",
       "      <td>victor</td>\n",
       "      <td></td>\n",
       "      <td>Lisbon, Lisbon, PT</td>\n",
       "      <td>38.726330</td>\n",
       "      <td>-9.149510</td>\n",
       "    </tr>\n",
       "    <tr>\n",
       "      <th>44</th>\n",
       "      <td>NicoSchira</td>\n",
       "      <td>&lt;p&gt;🔜 Done Deal and confirmed! Walter &lt;a href=\"...</td>\n",
       "      <td>San Francisco, California, US</td>\n",
       "      <td>37.777120</td>\n",
       "      <td>-122.419660</td>\n",
       "    </tr>\n",
       "    <tr>\n",
       "      <th>45</th>\n",
       "      <td>Lutz101</td>\n",
       "      <td>&lt;p&gt;&lt;a href=\"https://geekstodon.com/tags/silent...</td>\n",
       "      <td>Santa Clara, California, US</td>\n",
       "      <td>37.355800</td>\n",
       "      <td>-121.955120</td>\n",
       "    </tr>\n",
       "    <tr>\n",
       "      <th>46</th>\n",
       "      <td>otiswhite</td>\n",
       "      <td>&lt;p&gt;Many cities face the problems of a spiteful...</td>\n",
       "      <td>Lisbon, Lisbon, PT</td>\n",
       "      <td>38.726330</td>\n",
       "      <td>-9.149510</td>\n",
       "    </tr>\n",
       "    <tr>\n",
       "      <th>47</th>\n",
       "      <td>romatoday</td>\n",
       "      <td>&lt;p&gt;Seduta sul cornicione all'ultimo piano di u...</td>\n",
       "      <td>San Francisco, California, US</td>\n",
       "      <td>37.777120</td>\n",
       "      <td>-122.419660</td>\n",
       "    </tr>\n",
       "    <tr>\n",
       "      <th>48</th>\n",
       "      <td>verge</td>\n",
       "      <td>&lt;p&gt;This smart lock is the first with Matter-ov...</td>\n",
       "      <td>San Francisco, California, US</td>\n",
       "      <td>37.777120</td>\n",
       "      <td>-122.419660</td>\n",
       "    </tr>\n",
       "    <tr>\n",
       "      <th>49</th>\n",
       "      <td>harald</td>\n",
       "      <td>&lt;p&gt;Ålandsutredningen ute: Ryska konsulatet i M...</td>\n",
       "      <td>Helsinki, South Finland, FI</td>\n",
       "      <td>60.171160</td>\n",
       "      <td>24.932650</td>\n",
       "    </tr>\n",
       "  </tbody>\n",
       "</table>\n",
       "</div>"
      ],
      "text/plain": [
       "                        username  \\\n",
       "0   NewClimateParty_NordicGrenns   \n",
       "1                      shiroujun   \n",
       "2                 wellingtonrock   \n",
       "3                    Viviane_DPR   \n",
       "4                       caracabe   \n",
       "5                          ai6yr   \n",
       "6                         geofon   \n",
       "7                     archillect   \n",
       "8                      carbonara   \n",
       "9                     soesoesoeg   \n",
       "10               Birdy_Torishira   \n",
       "11               zssk_mimoriadne   \n",
       "12                          hund   \n",
       "13          magicaproject_europe   \n",
       "14                        shaugn   \n",
       "15                    tikistitch   \n",
       "16                    blakes7bot   \n",
       "17                 sleepindustry   \n",
       "18                           DiB   \n",
       "19                     bitpickup   \n",
       "20                   yoshi_vsapo   \n",
       "21                        sia193   \n",
       "22                    yuyuhe2021   \n",
       "23                      you0328p   \n",
       "24                   renedepaula   \n",
       "25                        Soferl   \n",
       "26                   marvin_h2g2   \n",
       "27                lubieniebieski   \n",
       "28                   knifesheepi   \n",
       "29                Paulos_the_fog   \n",
       "30                      NightCat   \n",
       "31                         o22ie   \n",
       "32                        hinano   \n",
       "33                          Kurt   \n",
       "34                       mullana   \n",
       "35                        Tori_e   \n",
       "36                        lachen   \n",
       "37                      smolcasm   \n",
       "38                     rtlnieuws   \n",
       "39                     MaoMaoBGs   \n",
       "40               nessilinikoniko   \n",
       "41                     tochu_cha   \n",
       "42                    UniUnicorn   \n",
       "43                        victor   \n",
       "44                    NicoSchira   \n",
       "45                       Lutz101   \n",
       "46                     otiswhite   \n",
       "47                     romatoday   \n",
       "48                         verge   \n",
       "49                        harald   \n",
       "\n",
       "                                                 text  \\\n",
       "0   <p>Kan Golfströmmen kollapsa redan 2025? - Stu...   \n",
       "1   <p><a href=\"https://o3o.ca/tags/%E4%BB%8A%E6%9...   \n",
       "2   <p>&#39;But there is still a chance to paint a...   \n",
       "3   <p>Once again, not beating the dumb **** alleg...   \n",
       "4   <p>Two of the three books I’m currently readin...   \n",
       "5   <p>From NWS Los Angeles: Widespread rain is li...   \n",
       "6   <****.8, New Britain Region, Papua New Guinea<...   \n",
       "7   Aesthetic AI Mood<br><a href=\"https://pensaer....   \n",
       "8   <p>I have made a terrible mistake wanting to p...   \n",
       "9                      <p><span>これは自作トンチキT</span></p>   \n",
       "10  <p>Wait Vaivan is not all machine **** love ah...   \n",
       "11  <p>Ex 605 (Bratislava hl. st. 9:27 - Košice 14...   \n",
       "12  <p>Coffee is great, but tea is not bad either....   \n",
       "13  <p>A step in <a href=\"https://mastodon.social/...   \n",
       "14  <p>Loopy after 18 hours of travel, but ready t...   \n",
       "15  <p>Even the <a href=\"https://toot.community/ta...   \n",
       "16  <p>Blake's 7 Series C, Episode 01 - Aftermath<...   \n",
       "17  <p>Sommier-i Ignifugo – Jetësimi i Qëndruesh...   \n",
       "18  <p>📣 Good news! </p><p>In order to tackle the ...   \n",
       "19  <p>Question in passing:<br>Why are there actua...   \n",
       "20  <p>七紫煙（@enen0707_sub ）</p><p>配信中</p><p>【<a hre...   \n",
       "21  <p>The theory that the food-fighter one is big...   \n",
       "22  <p>Tonight I had a sudden craving for kimchi, ...   \n",
       "23  <p>Have you ever been asked, \"Can I go without...   \n",
       "24  <p>pedi pro <a href=\"https://c.im/tags/midjour...   \n",
       "25  <p>Did you know that today is pickle day?<br /...   \n",
       "26  <p>But how about \"washable USB\" - it feels str...   \n",
       "27  <p>🆕 post: Opengraph Previews for Hugo</p><p>🔗...   \n",
       "28  <p>I'm hungry and making this even funnier ......   \n",
       "29  <p>Oddly, Freddie Frinton was never a **** in ...   \n",
       "30                                       <p>ｸﾝｯﾆｯ</p>   \n",
       "31  <p>While traveling, in-room coffee is a must h...   \n",
       "32  <p><a href=\"https://mastodon-japan.net/tags/%E...   \n",
       "33                                         <p>​ ​</p>   \n",
       "34                            <p>Get to work!!! 🙈</p>   \n",
       "35                <p>No one grows by being angry</p>.   \n",
       "36  <p>А чого так, що трапилось? </p><p>У вас якіс...   \n",
       "37  <p>ethics are good and we should do them more</p>   \n",
       "38  <p>𝗞𝗼𝘀𝘁𝗲𝗻 𝗿𝗲𝗻𝗼𝘃𝗮𝘁𝗶𝗲 𝘄𝗲𝗴𝗲𝗻, 𝘀𝗽𝗼𝗼𝗿 𝗲𝗻 𝗯𝗿𝘂𝗴𝗴𝗲𝗻 𝘃𝗲...   \n",
       "39                                                      \n",
       "40                               <p>Let me ****! </p>   \n",
       "41  <p>(while <a href=\"https://mstdn.jp/tags/t\" cl...   \n",
       "42  <p>I say I love you<br>You swallow the words a...   \n",
       "43                                                      \n",
       "44  <p>🔜 Done Deal and confirmed! Walter <a href=\"...   \n",
       "45  <p><a href=\"https://geekstodon.com/tags/silent...   \n",
       "46  <p>Many cities face the problems of a spiteful...   \n",
       "47  <p>Seduta sul cornicione all'ultimo piano di u...   \n",
       "48  <p>This smart lock is the first with Matter-ov...   \n",
       "49  <p>Ålandsutredningen ute: Ryska konsulatet i M...   \n",
       "\n",
       "                                             location   latitude   longitude  \n",
       "0                       San Francisco, California, US  37.777120 -122.419660  \n",
       "1                       San Francisco, California, US  37.777120 -122.419660  \n",
       "2                       San Francisco, California, US  37.777120 -122.419660  \n",
       "3                           Gunzenhausen, Bavaria, DE  49.115390   10.753560  \n",
       "4                                  Lisbon, Lisbon, PT  38.726330   -9.149510  \n",
       "5                       San Francisco, California, US  37.777120 -122.419660  \n",
       "6                    Karlsruhe, Baden-Wurttemberg, DE  49.010940    8.408450  \n",
       "7                    Karlsruhe, Baden-Wurttemberg, DE  49.010940    8.408450  \n",
       "8                                  Lisbon, Lisbon, PT  38.726330   -9.149510  \n",
       "9                       San Francisco, California, US  37.777120 -122.419660  \n",
       "10                      San Francisco, California, US  37.777120 -122.419660  \n",
       "11                      San Francisco, California, US  37.777120 -122.419660  \n",
       "12                                 Lisbon, Lisbon, PT  38.726330   -9.149510  \n",
       "13                      San Francisco, California, US  37.777120 -122.419660  \n",
       "14                                 Lisbon, Lisbon, PT  38.726330   -9.149510  \n",
       "15                      San Francisco, California, US  37.777120 -122.419660  \n",
       "16                       North Bergen, New Jersey, US  40.793010  -74.020380  \n",
       "17                      San Francisco, California, US  37.777120 -122.419660  \n",
       "18                                 Berlin, Berlin, DE  52.516040   13.376910  \n",
       "19                          Gunzenhausen, Bavaria, DE  49.115390   10.753560  \n",
       "20                      San Francisco, California, US  37.777120 -122.419660  \n",
       "21                                   Tokyo, Tokyo, JP  35.689456  139.691716  \n",
       "22                      San Francisco, California, US  37.777120 -122.419660  \n",
       "23                      San Francisco, California, US  37.777120 -122.419660  \n",
       "24                      San Francisco, California, US  37.777120 -122.419660  \n",
       "25                      San Francisco, California, US  37.777120 -122.419660  \n",
       "26                            Chiyoda City, Tokyo, JP  35.693937  139.753708  \n",
       "27                        Los Angeles, California, US  34.053570 -118.245450  \n",
       "28                      San Francisco, California, US  37.777120 -122.419660  \n",
       "29                    Gravelines, Hauts-de-France, FR  50.987084    2.125413  \n",
       "30                      San Francisco, California, US  37.777120 -122.419660  \n",
       "31                      San Francisco, California, US  37.777120 -122.419660  \n",
       "32                      San Francisco, California, US  37.777120 -122.419660  \n",
       "33                                 Vienna, Vienna, AT  48.202630   16.368420  \n",
       "34                     Falkenstein/Vogtl., Saxony, DE  50.476330   12.370320  \n",
       "35                      San Francisco, California, US  37.777120 -122.419660  \n",
       "36                      San Francisco, California, US  37.777120 -122.419660  \n",
       "37                       North Bergen, New Jersey, US  40.793010  -74.020380  \n",
       "38                      San Francisco, California, US  37.777120 -122.419660  \n",
       "39                       North Bergen, New Jersey, US  40.793010  -74.020380  \n",
       "40                      San Francisco, California, US  37.777120 -122.419660  \n",
       "41                      San Francisco, California, US  37.777120 -122.419660  \n",
       "42  Singapore, Central Singapore Community Develop...   1.298680  103.853670  \n",
       "43                                 Lisbon, Lisbon, PT  38.726330   -9.149510  \n",
       "44                      San Francisco, California, US  37.777120 -122.419660  \n",
       "45                        Santa Clara, California, US  37.355800 -121.955120  \n",
       "46                                 Lisbon, Lisbon, PT  38.726330   -9.149510  \n",
       "47                      San Francisco, California, US  37.777120 -122.419660  \n",
       "48                      San Francisco, California, US  37.777120 -122.419660  \n",
       "49                        Helsinki, South Finland, FI  60.171160   24.932650  "
      ]
     },
     "execution_count": 103,
     "metadata": {},
     "output_type": "execute_result"
    }
   ],
   "source": [
    "df"
   ]
  },
  {
   "cell_type": "code",
   "execution_count": null,
   "metadata": {
    "jupyter": {
     "source_hidden": true
    },
    "tags": []
   },
   "outputs": [],
   "source": [
    "df = df.dropna() # if there are rows with missing data drop them"
   ]
  },
  {
   "cell_type": "code",
   "execution_count": null,
   "metadata": {
    "jupyter": {
     "source_hidden": true
    },
    "tags": []
   },
   "outputs": [],
   "source": [
    "df"
   ]
  },
  {
   "cell_type": "markdown",
   "metadata": {},
   "source": [
    "### Creating a Map with Folium\n",
    "Create a folium Map on which we’ll plot the toot locations\n",
    "\n",
    "Note: We used **Stamen map tiles** in our book: \n",
    "* Stamen recently lost their funding, which they used to maintain their own servers. \n",
    "* The `folium` maintainers have decided not to support Stamen map tiles directly moving forward, but you can specify a custom map tile link with `folium`.\n",
    "* Stamen has begun a new partnership with stadiamaps.com, which requires an API key. \n",
    "* See https://stadiamaps.com/stamen/ for details on setting up a free account and getting an API key. \n",
    "* In `keys_mastodon.py`, provide your API key in the `stadia_key` variable. "
   ]
  },
  {
   "cell_type": "code",
   "execution_count": 104,
   "metadata": {
    "tags": []
   },
   "outputs": [],
   "source": [
    "import folium"
   ]
  },
  {
   "cell_type": "code",
   "execution_count": null,
   "metadata": {
    "tags": []
   },
   "outputs": [],
   "source": [
    "#usmap = folium.Map(location=[39.8283, -98.5795], \n",
    "#    tiles='Stamen Terrain', zoom_start=4, detect_retina=True) "
   ]
  },
  {
   "cell_type": "code",
   "execution_count": 105,
   "metadata": {
    "tags": []
   },
   "outputs": [],
   "source": [
    "base_tile_url = 'https://tiles.stadiamaps.com/tiles/stamen_terrain/{z}/{x}/{y}@2x.png'\n",
    "tile_url = f'{base_tile_url}?api_key=\"{keys_mastodon.stadia_key}\")'"
   ]
  },
  {
   "cell_type": "code",
   "execution_count": 106,
   "metadata": {
    "tags": []
   },
   "outputs": [],
   "source": [
    "usmap = folium.Map(location=[39.8283, -98.5795], \n",
    "    tiles=tile_url,\n",
    "    attr='Map tiles by Stamen Design, under CC BY 4.0. Data by OpenStreetMap, under ODbL.',\n",
    "    zoom_start=4, detect_retina=True)  "
   ]
  },
  {
   "cell_type": "markdown",
   "metadata": {},
   "source": [
    "* `location` keyword argument specifies a sequence containing latitude and longitude coordinates for the **map’s center point** \n",
    "    * The values in this snippet are the **geographic center of the continental United States**\n",
    "    * In many places worldwide, the term `'football'` describes the sport we call soccer in the U.S., so some of the toots we plot may be outside the U.S\n",
    "    * You can zoom using the **+** and **–** buttons at the map’s top-left, or you can dragging the map with the mouse (that is, pan) to see anywhere in the world\n",
    "*  `zoom_start` keyword argument specifies the map’s initial zoom level, lower values show more of the world\n",
    "* `detect_retina` keyword argument enables folium to detect high-resolution screens to use higher-resolution maps from `OpenStreetMap.org`"
   ]
  },
  {
   "cell_type": "markdown",
   "metadata": {},
   "source": [
    "### Creating Popup Markers for the Toot Locations\n",
    "* Create `folium` `Popup` objects containing each toot’s text and add them to the `Map`\n",
    "* `DataFrame` method `itertuples` creates a named tuple from each row containing properties corresponding to each `DataFrame` column"
   ]
  },
  {
   "cell_type": "code",
   "execution_count": 108,
   "metadata": {
    "tags": []
   },
   "outputs": [],
   "source": [
    "for t in df.itertuples():\n",
    "    text = ''.join(['<p>' + t.username + '</p>', t.text if t.text else ''])\n",
    "    popup = folium.Popup(text)\n",
    "    marker = folium.Marker((t.latitude, t.longitude), \n",
    "                           popup=popup)\n",
    "    marker.add_to(usmap)"
   ]
  },
  {
   "cell_type": "markdown",
   "metadata": {},
   "source": [
    "* Creates a string (`text`) containing the user’s `username` and toot `text` \n",
    "* Creates a `folium` `Popup` to display the `text`\n",
    "* Creates a `folium` `Marker`\n",
    "    * tuple to specify the `Marker`’s latitude and longitude\n",
    "    * `popup` keyword argument associates the toot’s `Popup` object with the new `Marker`\n",
    "* Calls the `Marker`’s `add_to` method to specify the `Map` that will display the `Marker`"
   ]
  },
  {
   "cell_type": "markdown",
   "metadata": {},
   "source": [
    "### Saving the Map\n",
    "* Call the `Map`’s `save` method to store the map in an HTML file, which you can then double-click to open in your web browser"
   ]
  },
  {
   "cell_type": "code",
   "execution_count": null,
   "metadata": {},
   "outputs": [],
   "source": [
    "usmap.save('toot_map.html')"
   ]
  },
  {
   "cell_type": "code",
   "execution_count": null,
   "metadata": {
    "tags": []
   },
   "outputs": [],
   "source": [
    "usmap # displays the map in the notebook"
   ]
  },
  {
   "cell_type": "markdown",
   "metadata": {
    "tags": []
   },
   "source": [
    "## Class `LocationListener`\n",
    "\n",
    "```python\n",
    "# locationlistener.py\n",
    "\"\"\"Receives toots and stores a list of dictionaries containing \n",
    "each toot's username/content, server domain and server location.\"\"\"\n",
    "import keys_mastodon\n",
    "import tootutilities \n",
    "from mastodon import StreamListener\n",
    "from bs4 import BeautifulSoup\n",
    "import deepl\n",
    "import preprocessor as p \n",
    "from textblob import TextBlob\n",
    "\n",
    "# stream will be set to the stream handle so we can close \n",
    "# the stream after a specified number of toots are received\n",
    "location_listener_stream = None\n",
    "\n",
    "class LocationListener(StreamListener):\n",
    "    \"\"\"Handles incoming Toot stream to get location data.\"\"\"\n",
    "\n",
    "    def __init__(self, counts_dict, toots_list, limit=10):\n",
    "        \"\"\"Configure the LocationListener.\"\"\"\n",
    "        self.toots_list = toots_list\n",
    "        self.counts_dict = counts_dict\n",
    "        self.TOOT_LIMIT = limit\n",
    "\n",
    "    def on_update(self, status):\n",
    "        \"\"\"Called when Mastodon pushes a new toot to you.\"\"\"\n",
    "\n",
    "        # get toot's username, text and location\n",
    "        toot_data = tootutilities.get_toot_content(status)  \n",
    "        self.counts_dict['total_toots'] += 1 # it's an original toot\n",
    "\n",
    "        # ignore toots with no server location--can't plot on a map\n",
    "        if not toot_data.get('location'):  \n",
    "            return\n",
    "\n",
    "        self.counts_dict['locations'] += 1 \n",
    "        self.toots_list.append(toot_data) # store the toot\n",
    "        \n",
    "        print(f\"{self.counts_dict['locations']:2}: {toot_data['username']}\")\n",
    "\n",
    "        # if TOOT_LIMIT is reached, terminate streaming\n",
    "        if self.counts_dict['locations'] == self.TOOT_LIMIT:\n",
    "            location_listener_stream.close()\n",
    "```"
   ]
  },
  {
   "cell_type": "markdown",
   "metadata": {},
   "source": [
    "## Utility Functions in `tootutilities.py` "
   ]
  },
  {
   "cell_type": "markdown",
   "metadata": {},
   "source": [
    "### Utility Function `get_toot_content`  \n",
    "* Receives a toot and creates a **dictionary** containing the **toot’s `username`, `text` and server `location`**\n",
    "\n",
    "```python\n",
    "def get_toot_content(toot):\n",
    "    \"\"\"Return dictionary with username of toot sender, toot content\n",
    "       translated to English (if necessary) and the sender account's \n",
    "       Mastodon server domain.\"\"\"\n",
    "\n",
    "    fields = {}\n",
    "    fields['username'] = toot.account.username\n",
    "\n",
    "    # possibly translate plain_text\n",
    "    if toot.language and not toot.language.startswith('en'):\n",
    "        try:\n",
    "            result = translator.translate_text(\n",
    "                toot.content, target_lang='en-us')\n",
    "            \n",
    "            # save translated text\n",
    "            fields['text'] = profanity.censor(result.text)\n",
    "        except:\n",
    "            fields['text'] = None\n",
    "    else:\n",
    "        fields['text'] = profanity.censor(toot.content)\n",
    "        \n",
    "    # look up server location\n",
    "    fields['location'] = get_domain_location_from_url(toot.url)\n",
    "\n",
    "    return fields\n",
    "```"
   ]
  },
  {
   "cell_type": "markdown",
   "metadata": {},
   "source": [
    "### Utility Function `get_domain_location_from_url`  \n",
    "* Receives the URL of a toot, extracts the domain name, looks up the domain's IP address, then uses the free tier of the ipgeolocation.io API to lookup the geographic location of that IP address\n",
    "*  Get a key at for ipgeolocation.io web service at: https://ipgeolocation.io/signup.html\n",
    "    * store it in `ipgeolocation_key` within in c`keys_mastodon.py`\n",
    "\n",
    "```python\n",
    "def get_domain_location_from_url(url):\n",
    "    \"\"\"Parse the domain from url, then look up the IP address \n",
    "       and get its city.\n",
    "       \n",
    "       Get a key at for ipgeolocation.io web service at: \n",
    "       https://ipgeolocation.io/signup.html\n",
    "    \"\"\"\n",
    "    \n",
    "    # get domain from url argument using Python \n",
    "    # urllib.parse module's urlparse function\n",
    "    domain = urlparse(url).netloc\n",
    "\n",
    "    # get IP address for hostname using Python \n",
    "    # socket module's gethostbyname function\n",
    "    ip_address = socket.gethostbyname(domain)\n",
    "    \n",
    "    # URL to access ipgeolocation.io web services\n",
    "    ipgeolocation_url = ('https://api.ipgeolocation.io/ipgeo?apiKey=' + \n",
    "       keys_mastodon.ipgeolocation_key + f'&ip={ip_address}')\n",
    "\n",
    "    # use Python requests module to invoke web service\n",
    "    response = requests.get(ipgeolocation_url)\n",
    "\n",
    "    # if successful get the location\n",
    "    if response.status_code == 200:\n",
    "        data = response.json() # convert JSON to dictionary\n",
    "        location = (f\"{data['city']}, {data['state_prov']}, \" +\n",
    "            f\"{data['country_code2']}\")\n",
    "        return location\n",
    "    else:\n",
    "        print('Error getting location\\n',\n",
    "              f'{response.status_code}: {response.text}')\n",
    "        return None\n",
    "```"
   ]
  },
  {
   "cell_type": "markdown",
   "metadata": {},
   "source": [
    "### `get_geocodes` Utility Function \n",
    "* Receives a list of dictionaries containing toots and **geocodes their server locations**\n",
    "* If geocoding is successful for a toot, adds the **latitude** and **longitude** to the toot’s **dictionary in `toot_list`**\n",
    "\n",
    "```python\n",
    "def get_geocodes(toot_list):\n",
    "    \"\"\"Get the latitude and longitude for each tweet's location.\n",
    "    Returns the number of tweets with invalid location data.\"\"\"\n",
    "    \n",
    "    print('Getting coordinates for mastodon server locations...')\n",
    "    geo = ArcGIS()  # geocoder\n",
    "    bad_locations = 0  \n",
    "\n",
    "    for toot in toot_list:\n",
    "        processed = False\n",
    "        delay = .1  # used if OpenMapQuest times out to delay next call\n",
    "        while not processed:\n",
    "            try:  # get coordinates for tweet['location']\n",
    "                geo_location = geo.geocode(toot['location'])\n",
    "                processed = True\n",
    "            except:  # timed out, so wait before trying again\n",
    "                print('Service timed out. Waiting.')\n",
    "                time.sleep(delay)\n",
    "                delay += .1\n",
    "\n",
    "        if geo_location:  \n",
    "            toot['latitude'] = geo_location.latitude\n",
    "            toot['longitude'] = geo_location.longitude\n",
    "        else:  \n",
    "            bad_locations += 1  # toot['location'] was invalid\n",
    "    \n",
    "    print('Done geocoding')\n",
    "    return bad_locations\n",
    "```"
   ]
  },
  {
   "cell_type": "markdown",
   "metadata": {
    "tags": []
   },
   "source": [
    "<!--\n",
    "# More Info \n",
    "* See Lesson 12 in [**Python Fundamentals LiveLessons** here on O'Reilly Online Learning](https://learning.oreilly.com/videos/python-fundamentals/9780135917411)\n",
    "* See Chapter 12 in [**Python for Programmers** on O'Reilly Online Learning](https://learning.oreilly.com/library/view/python-for-programmers/9780135231364/)\n",
    "* See Chapter 13 in [**Intro Python for Computer Science and Data Science** on O'Reilly Online Learning](https://learning.oreilly.com/library/view/intro-to-python/9780135404799/)\n",
    "* Interested in a print book? Check out:\n",
    "\n",
    "| Python for Programmers<br>(640-page professional book) | Intro to Python for Computer<br>Science and Data Science<br>(880-page college textbook)\n",
    "| :------ | :------\n",
    "| <a href=\"https://amzn.to/2VvdnxE\"><img alt=\"Python for Programmers cover\" src=\"../images/PyFPCover.png\" width=\"150\" border=\"1\"/></a> | <a href=\"https://amzn.to/2LiDCmt\"><img alt=\"Intro to Python for Computer Science and Data Science: Learning to Program with AI, Big Data and the Cloud\" src=\"../images/IntroToPythonCover.png\" width=\"159\" border=\"1\"></a>\n",
    "\n",
    ">Please **do not** purchase both books&mdash;_Python for Programmers_ is a subset of _Intro to Python for Computer Science and Data Science_\n",
    "-->"
   ]
  },
  {
   "cell_type": "markdown",
   "metadata": {},
   "source": [
    "------\n",
    "&copy;1992&ndash;2024 by Pearson Education, Inc. All Rights Reserved. This content is based on Chapter 12 of the book [**Intro to Python for Computer Science and Data Science: Learning to Program with AI, Big Data and the Cloud**](https://amzn.to/2VvdnxE).\n",
    "\n",
    "DISCLAIMER: The authors and publisher of this book have used their \n",
    "best efforts in preparing the book. These efforts include the \n",
    "development, research, and testing of the theories and programs \n",
    "to determine their effectiveness. The authors and publisher make \n",
    "no warranty of any kind, expressed or implied, with regard to these \n",
    "programs or to the documentation contained in these books. The authors \n",
    "and publisher shall not be liable in any event for incidental or \n",
    "consequential damages in connection with, or arising out of, the \n",
    "furnishing, performance, or use of these programs.                  "
   ]
  }
 ],
 "metadata": {
  "celltoolbar": "Slideshow",
  "kernelspec": {
   "display_name": "Python 3 (ipykernel)",
   "language": "python",
   "name": "python3"
  },
  "language_info": {
   "codemirror_mode": {
    "name": "ipython",
    "version": 3
   },
   "file_extension": ".py",
   "mimetype": "text/x-python",
   "name": "python",
   "nbconvert_exporter": "python",
   "pygments_lexer": "ipython3",
   "version": "3.11.5"
  }
 },
 "nbformat": 4,
 "nbformat_minor": 4
}
